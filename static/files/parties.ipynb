{
 "cells": [
  {
   "cell_type": "code",
   "execution_count": 2,
   "metadata": {},
   "outputs": [],
   "source": [
    "import pandas as pd\r\n",
    "from elasticsearch import Elasticsearch"
   ]
  },
  {
   "cell_type": "code",
   "execution_count": 4,
   "metadata": {},
   "outputs": [],
   "source": [
    "parties_sheet1 = pd.read_excel (\"C:/Users/csh1/Desktop/NEW/parties.xlsx\" ,'Sheet1')\r\n",
    "parties_sheet2 = pd.read_excel (\"C:/Users/csh1/Desktop/NEW/parties.xlsx\" ,'Sheet2')"
   ]
  },
  {
   "cell_type": "code",
   "execution_count": 5,
   "metadata": {},
   "outputs": [],
   "source": [
    "parties = pd.concat([parties_sheet1 , parties_sheet2 ])"
   ]
  },
  {
   "cell_type": "code",
   "execution_count": 6,
   "metadata": {},
   "outputs": [
    {
     "name": "stdout",
     "output_type": "stream",
     "text": [
      "<class 'pandas.core.frame.DataFrame'>\n",
      "Int64Index: 1324875 entries, 0 to 276299\n",
      "Data columns (total 4 columns):\n",
      " #   Column        Non-Null Count    Dtype \n",
      "---  ------        --------------    ----- \n",
      " 0   Party_ID      1324875 non-null  object\n",
      " 1   Party_Type    1324875 non-null  object\n",
      " 2   Isdeleted     1324875 non-null  object\n",
      " 3   IsSearchable  1324875 non-null  object\n",
      "dtypes: object(4)\n",
      "memory usage: 50.5+ MB\n"
     ]
    }
   ],
   "source": [
    "parties.info()"
   ]
  },
  {
   "cell_type": "code",
   "execution_count": 7,
   "metadata": {},
   "outputs": [
    {
     "data": {
      "text/html": "<div>\n<style scoped>\n    .dataframe tbody tr th:only-of-type {\n        vertical-align: middle;\n    }\n\n    .dataframe tbody tr th {\n        vertical-align: top;\n    }\n\n    .dataframe thead th {\n        text-align: right;\n    }\n</style>\n<table border=\"1\" class=\"dataframe\">\n  <thead>\n    <tr style=\"text-align: right;\">\n      <th></th>\n      <th>Party_ID</th>\n      <th>Party_Type</th>\n      <th>Isdeleted</th>\n      <th>IsSearchable</th>\n    </tr>\n  </thead>\n  <tbody>\n    <tr>\n      <th>0</th>\n      <td>F1GVHV-C</td>\n      <td>I</td>\n      <td>N</td>\n      <td>Y</td>\n    </tr>\n    <tr>\n      <th>1</th>\n      <td>D8BGME-C</td>\n      <td>I</td>\n      <td>N</td>\n      <td>Y</td>\n    </tr>\n    <tr>\n      <th>2</th>\n      <td>DSRA1N-C</td>\n      <td>I</td>\n      <td>N</td>\n      <td>Y</td>\n    </tr>\n    <tr>\n      <th>3</th>\n      <td>DJ97I5-C</td>\n      <td>I</td>\n      <td>N</td>\n      <td>Y</td>\n    </tr>\n    <tr>\n      <th>4</th>\n      <td>FS2M39-C</td>\n      <td>I</td>\n      <td>N</td>\n      <td>Y</td>\n    </tr>\n  </tbody>\n</table>\n</div>",
      "text/plain": "   Party_ID Party_Type Isdeleted IsSearchable\n0  F1GVHV-C          I         N            Y\n1  D8BGME-C          I         N            Y\n2  DSRA1N-C          I         N            Y\n3  DJ97I5-C          I         N            Y\n4  FS2M39-C          I         N            Y"
     },
     "execution_count": 7,
     "metadata": {},
     "output_type": "execute_result"
    }
   ],
   "source": [
    "parties.head()"
   ]
  },
  {
   "cell_type": "code",
   "execution_count": 8,
   "metadata": {},
   "outputs": [],
   "source": [
    "parties['Party_Type'] = \"individual\""
   ]
  },
  {
   "cell_type": "code",
   "execution_count": 10,
   "metadata": {},
   "outputs": [
    {
     "data": {
      "text/html": "<div>\n<style scoped>\n    .dataframe tbody tr th:only-of-type {\n        vertical-align: middle;\n    }\n\n    .dataframe tbody tr th {\n        vertical-align: top;\n    }\n\n    .dataframe thead th {\n        text-align: right;\n    }\n</style>\n<table border=\"1\" class=\"dataframe\">\n  <thead>\n    <tr style=\"text-align: right;\">\n      <th></th>\n      <th>Party_ID</th>\n      <th>Party_Type</th>\n      <th>Isdeleted</th>\n      <th>IsSearchable</th>\n    </tr>\n  </thead>\n  <tbody>\n    <tr>\n      <th>0</th>\n      <td>F1GVHV-C</td>\n      <td>individual</td>\n      <td>N</td>\n      <td>Y</td>\n    </tr>\n    <tr>\n      <th>1</th>\n      <td>D8BGME-C</td>\n      <td>individual</td>\n      <td>N</td>\n      <td>Y</td>\n    </tr>\n    <tr>\n      <th>2</th>\n      <td>DSRA1N-C</td>\n      <td>individual</td>\n      <td>N</td>\n      <td>Y</td>\n    </tr>\n    <tr>\n      <th>3</th>\n      <td>DJ97I5-C</td>\n      <td>individual</td>\n      <td>N</td>\n      <td>Y</td>\n    </tr>\n    <tr>\n      <th>4</th>\n      <td>FS2M39-C</td>\n      <td>individual</td>\n      <td>N</td>\n      <td>Y</td>\n    </tr>\n  </tbody>\n</table>\n</div>",
      "text/plain": "   Party_ID  Party_Type Isdeleted IsSearchable\n0  F1GVHV-C  individual         N            Y\n1  D8BGME-C  individual         N            Y\n2  DSRA1N-C  individual         N            Y\n3  DJ97I5-C  individual         N            Y\n4  FS2M39-C  individual         N            Y"
     },
     "execution_count": 10,
     "metadata": {},
     "output_type": "execute_result"
    }
   ],
   "source": [
    "parties.head()"
   ]
  },
  {
   "cell_type": "code",
   "execution_count": 11,
   "metadata": {},
   "outputs": [],
   "source": [
    "parties.to_csv(\"C:/Users/csh1/Desktop/final_data/parties.csv\" , index= False)"
   ]
  }
 ],
 "metadata": {
  "kernelspec": {
   "display_name": "Python 3.9.5 64-bit",
   "name": "python395jvsc74a57bd0e922dd073470bdcc017ae3abd31d6491d6ed7bf31c1d559806e5511bfea88b81"
  },
  "language_info": {
   "codemirror_mode": {
    "name": "ipython",
    "version": 3
   },
   "file_extension": ".py",
   "mimetype": "text/x-python",
   "name": "python",
   "nbconvert_exporter": "python",
   "pygments_lexer": "ipython3",
   "version": "3.9.5"
  },
  "metadata": {
   "interpreter": {
    "hash": "e922dd073470bdcc017ae3abd31d6491d6ed7bf31c1d559806e5511bfea88b81"
   }
  },
  "orig_nbformat": 2
 },
 "nbformat": 4,
 "nbformat_minor": 2
}