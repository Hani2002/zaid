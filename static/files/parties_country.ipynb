{
 "cells": [
  {
   "cell_type": "code",
   "execution_count": 2,
   "metadata": {},
   "outputs": [],
   "source": [
    "import pandas as pd\r\n",
    "from elasticsearch import Elasticsearch"
   ]
  },
  {
   "cell_type": "code",
   "execution_count": 3,
   "metadata": {},
   "outputs": [],
   "source": [
    "partiescountry_sheet1 = pd.read_excel (\"C:/Users/csh1/Desktop/NEW/partiescountry.xlsx\" ,'Sheet1')\r\n",
    "partiescountry_sheet2 = pd.read_excel (\"C:/Users/csh1/Desktop/NEW/partiescountry.xlsx\" ,'Sheet2')\r\n",
    "partiescountry_sheet3 = pd.read_excel (\"C:/Users/csh1/Desktop/NEW/partiescountry.xlsx\" ,'Sheet3')"
   ]
  },
  {
   "cell_type": "code",
   "execution_count": 4,
   "metadata": {},
   "outputs": [],
   "source": [
    "partiescountry = pd.concat([partiescountry_sheet1 , partiescountry_sheet2, partiescountry_sheet3])"
   ]
  },
  {
   "cell_type": "code",
   "execution_count": 5,
   "metadata": {},
   "outputs": [
    {
     "name": "stdout",
     "output_type": "stream",
     "text": [
      "<class 'pandas.core.frame.DataFrame'>\n",
      "Int64Index: 2649750 entries, 0 to 552599\n",
      "Data columns (total 8 columns):\n",
      " #   Column                   Dtype  \n",
      "---  ------                   -----  \n",
      " 0   Party_ID                 object \n",
      " 1   Source_country           object \n",
      " 2   Orgnization              object \n",
      " 3   Role                     object \n",
      " 4   Sequence                 int64  \n",
      " 5   Date_of_birth            int64  \n",
      " 6   country_of_origin        float64\n",
      " 7   Country_of_Incoporation  float64\n",
      "dtypes: float64(2), int64(2), object(4)\n",
      "memory usage: 181.9+ MB\n"
     ]
    }
   ],
   "source": [
    "partiescountry.info()"
   ]
  },
  {
   "cell_type": "code",
   "execution_count": 6,
   "metadata": {},
   "outputs": [
    {
     "data": {
      "text/html": "<div>\n<style scoped>\n    .dataframe tbody tr th:only-of-type {\n        vertical-align: middle;\n    }\n\n    .dataframe tbody tr th {\n        vertical-align: top;\n    }\n\n    .dataframe thead th {\n        text-align: right;\n    }\n</style>\n<table border=\"1\" class=\"dataframe\">\n  <thead>\n    <tr style=\"text-align: right;\">\n      <th></th>\n      <th>Party_ID</th>\n      <th>Source_country</th>\n      <th>Orgnization</th>\n      <th>Role</th>\n      <th>Sequence</th>\n      <th>Date_of_birth</th>\n      <th>country_of_origin</th>\n      <th>Country_of_Incoporation</th>\n    </tr>\n  </thead>\n  <tbody>\n    <tr>\n      <th>0</th>\n      <td>A8VKJ4-C</td>\n      <td>JO</td>\n      <td>PLC</td>\n      <td>AH</td>\n      <td>0</td>\n      <td>870722</td>\n      <td>NaN</td>\n      <td>NaN</td>\n    </tr>\n    <tr>\n      <th>1</th>\n      <td>BASSAM-C</td>\n      <td>JO</td>\n      <td>PLC</td>\n      <td>AH</td>\n      <td>0</td>\n      <td>621224</td>\n      <td>NaN</td>\n      <td>NaN</td>\n    </tr>\n    <tr>\n      <th>2</th>\n      <td>CV5MJH-C</td>\n      <td>JO</td>\n      <td>PLC</td>\n      <td>AH</td>\n      <td>0</td>\n      <td>760115</td>\n      <td>NaN</td>\n      <td>NaN</td>\n    </tr>\n    <tr>\n      <th>3</th>\n      <td>C9L3HT-C</td>\n      <td>JO</td>\n      <td>PLC</td>\n      <td>AH</td>\n      <td>0</td>\n      <td>0</td>\n      <td>NaN</td>\n      <td>NaN</td>\n    </tr>\n    <tr>\n      <th>4</th>\n      <td>C9L3KC-C</td>\n      <td>JO</td>\n      <td>PLC</td>\n      <td>AH</td>\n      <td>0</td>\n      <td>0</td>\n      <td>NaN</td>\n      <td>NaN</td>\n    </tr>\n  </tbody>\n</table>\n</div>",
      "text/plain": "   Party_ID Source_country Orgnization Role  Sequence  Date_of_birth  \\\n0  A8VKJ4-C             JO         PLC   AH         0         870722   \n1  BASSAM-C             JO         PLC   AH         0         621224   \n2  CV5MJH-C             JO         PLC   AH         0         760115   \n3  C9L3HT-C             JO         PLC   AH         0              0   \n4  C9L3KC-C             JO         PLC   AH         0              0   \n\n   country_of_origin  Country_of_Incoporation  \n0                NaN                      NaN  \n1                NaN                      NaN  \n2                NaN                      NaN  \n3                NaN                      NaN  \n4                NaN                      NaN  "
     },
     "execution_count": 6,
     "metadata": {},
     "output_type": "execute_result"
    }
   ],
   "source": [
    "partiescountry.head()"
   ]
  },
  {
   "cell_type": "code",
   "execution_count": 7,
   "metadata": {},
   "outputs": [],
   "source": [
    "partiescountry.to_csv(\"C:/Users/csh1/Desktop/final_data/parties_country.csv\" , index= False)"
   ]
  }
 ],
 "metadata": {
  "kernelspec": {
   "display_name": "Python 3.9.5 64-bit",
   "name": "python395jvsc74a57bd0e922dd073470bdcc017ae3abd31d6491d6ed7bf31c1d559806e5511bfea88b81"
  },
  "language_info": {
   "codemirror_mode": {
    "name": "ipython",
    "version": 3
   },
   "file_extension": ".py",
   "mimetype": "text/x-python",
   "name": "python",
   "nbconvert_exporter": "python",
   "pygments_lexer": "ipython3",
   "version": "3.9.5"
  },
  "metadata": {
   "interpreter": {
    "hash": "e922dd073470bdcc017ae3abd31d6491d6ed7bf31c1d559806e5511bfea88b81"
   }
  },
  "orig_nbformat": 2
 },
 "nbformat": 4,
 "nbformat_minor": 2
}