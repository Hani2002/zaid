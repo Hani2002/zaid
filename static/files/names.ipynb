{
 "cells": [
  {
   "cell_type": "code",
   "execution_count": 2,
   "metadata": {},
   "outputs": [],
   "source": [
    "import pandas as pd\r\n",
    "from elasticsearch import Elasticsearch\r\n"
   ]
  },
  {
   "cell_type": "code",
   "execution_count": 44,
   "metadata": {},
   "outputs": [],
   "source": [
    "names_sheet1 = pd.read_excel (\"C:/Users/csh1/Desktop/NEW/names.xlsx\" ,'Sheet1')\r\n",
    "names_sheet2 = pd.read_excel (\"C:/Users/csh1/Desktop/NEW/names.xlsx\" ,'Sheet2')\r\n",
    "names_sheet3 = pd.read_excel (\"C:/Users/csh1/Desktop/NEW/names.xlsx\" ,'Sheet3')"
   ]
  },
  {
   "cell_type": "code",
   "execution_count": 45,
   "metadata": {},
   "outputs": [],
   "source": [
    "names = pd.concat([names_sheet1 , names_sheet2 , names_sheet3  ])"
   ]
  },
  {
   "cell_type": "code",
   "execution_count": 46,
   "metadata": {},
   "outputs": [
    {
     "name": "stdout",
     "output_type": "stream",
     "text": [
      "<class 'pandas.core.frame.DataFrame'>\n",
      "Int64Index: 2649750 entries, 0 to 552599\n",
      "Data columns (total 11 columns):\n",
      " #   Column          Dtype \n",
      "---  ------          ----- \n",
      " 0   Party_ID        object\n",
      " 1   Source_country  object\n",
      " 2   Orgnization     object\n",
      " 3   Role            object\n",
      " 4   Sequence        int64 \n",
      " 5   Language        object\n",
      " 6   FirstName       object\n",
      " 7   SecondName      object\n",
      " 8   ThirdName       object\n",
      " 9   LastName        object\n",
      " 10  FullName        object\n",
      "dtypes: int64(1), object(10)\n",
      "memory usage: 242.6+ MB\n"
     ]
    }
   ],
   "source": [
    "names.info()"
   ]
  },
  {
   "cell_type": "code",
   "execution_count": 47,
   "metadata": {},
   "outputs": [
    {
     "data": {
      "text/html": [
       "<div>\n",
       "<style scoped>\n",
       "    .dataframe tbody tr th:only-of-type {\n",
       "        vertical-align: middle;\n",
       "    }\n",
       "\n",
       "    .dataframe tbody tr th {\n",
       "        vertical-align: top;\n",
       "    }\n",
       "\n",
       "    .dataframe thead th {\n",
       "        text-align: right;\n",
       "    }\n",
       "</style>\n",
       "<table border=\"1\" class=\"dataframe\">\n",
       "  <thead>\n",
       "    <tr style=\"text-align: right;\">\n",
       "      <th></th>\n",
       "      <th>Party_ID</th>\n",
       "      <th>Source_country</th>\n",
       "      <th>Orgnization</th>\n",
       "      <th>Role</th>\n",
       "      <th>Sequence</th>\n",
       "      <th>Language</th>\n",
       "      <th>FirstName</th>\n",
       "      <th>SecondName</th>\n",
       "      <th>ThirdName</th>\n",
       "      <th>LastName</th>\n",
       "      <th>FullName</th>\n",
       "    </tr>\n",
       "  </thead>\n",
       "  <tbody>\n",
       "    <tr>\n",
       "      <th>0</th>\n",
       "      <td>A8VKJ4-C</td>\n",
       "      <td>JO</td>\n",
       "      <td>PLC</td>\n",
       "      <td>AH</td>\n",
       "      <td>0</td>\n",
       "      <td>AR</td>\n",
       "      <td>NaN</td>\n",
       "      <td>جمال</td>\n",
       "      <td>خليل</td>\n",
       "      <td>NaN</td>\n",
       "      <td>جمال خليل</td>\n",
       "    </tr>\n",
       "    <tr>\n",
       "      <th>1</th>\n",
       "      <td>BASSAM-C</td>\n",
       "      <td>JO</td>\n",
       "      <td>PLC</td>\n",
       "      <td>AH</td>\n",
       "      <td>0</td>\n",
       "      <td>AR</td>\n",
       "      <td>زياد</td>\n",
       "      <td>صابر</td>\n",
       "      <td>هويمل</td>\n",
       "      <td>السليحات</td>\n",
       "      <td>زياد صابر هويمل السليحات</td>\n",
       "    </tr>\n",
       "    <tr>\n",
       "      <th>2</th>\n",
       "      <td>CV5MJH-C</td>\n",
       "      <td>JO</td>\n",
       "      <td>PLC</td>\n",
       "      <td>AH</td>\n",
       "      <td>0</td>\n",
       "      <td>AR</td>\n",
       "      <td>دانا</td>\n",
       "      <td>محمد خضر</td>\n",
       "      <td>عبد العزيز</td>\n",
       "      <td>الوليدات</td>\n",
       "      <td>دانا محمد خضر عبد العزيز الوليدات</td>\n",
       "    </tr>\n",
       "    <tr>\n",
       "      <th>3</th>\n",
       "      <td>C9L3HT-C</td>\n",
       "      <td>JO</td>\n",
       "      <td>PLC</td>\n",
       "      <td>AH</td>\n",
       "      <td>0</td>\n",
       "      <td>AR</td>\n",
       "      <td>رضا</td>\n",
       "      <td>فرح</td>\n",
       "      <td>فتحي</td>\n",
       "      <td>الدغداشي</td>\n",
       "      <td>رضا فرح فتحي الدغداشي</td>\n",
       "    </tr>\n",
       "    <tr>\n",
       "      <th>4</th>\n",
       "      <td>C9L3KC-C</td>\n",
       "      <td>JO</td>\n",
       "      <td>PLC</td>\n",
       "      <td>AH</td>\n",
       "      <td>0</td>\n",
       "      <td>AR</td>\n",
       "      <td>عبد الرحمن</td>\n",
       "      <td>صالح</td>\n",
       "      <td>احمد</td>\n",
       "      <td>الهواري</td>\n",
       "      <td>عبد الرحمن صالح احمد الهواري</td>\n",
       "    </tr>\n",
       "  </tbody>\n",
       "</table>\n",
       "</div>"
      ],
      "text/plain": [
       "   Party_ID Source_country Orgnization Role  Sequence Language  \\\n",
       "0  A8VKJ4-C             JO         PLC   AH         0       AR   \n",
       "1  BASSAM-C             JO         PLC   AH         0       AR   \n",
       "2  CV5MJH-C             JO         PLC   AH         0       AR   \n",
       "3  C9L3HT-C             JO         PLC   AH         0       AR   \n",
       "4  C9L3KC-C             JO         PLC   AH         0       AR   \n",
       "\n",
       "         FirstName       SecondName        ThirdName         LastName  \\\n",
       "0              NaN             جمال             خليل              NaN   \n",
       "1             زياد             صابر            هويمل         السليحات   \n",
       "2             دانا         محمد خضر       عبد العزيز         الوليدات   \n",
       "3              رضا              فرح             فتحي         الدغداشي   \n",
       "4       عبد الرحمن             صالح             احمد          الهواري   \n",
       "\n",
       "                            FullName  \n",
       "0                          جمال خليل  \n",
       "1           زياد صابر هويمل السليحات  \n",
       "2  دانا محمد خضر عبد العزيز الوليدات  \n",
       "3              رضا فرح فتحي الدغداشي  \n",
       "4       عبد الرحمن صالح احمد الهواري  "
      ]
     },
     "execution_count": 47,
     "metadata": {},
     "output_type": "execute_result"
    }
   ],
   "source": [
    "names.head()"
   ]
  },
  {
   "cell_type": "code",
   "execution_count": 48,
   "metadata": {},
   "outputs": [
    {
     "data": {
      "text/html": [
       "<div>\n",
       "<style scoped>\n",
       "    .dataframe tbody tr th:only-of-type {\n",
       "        vertical-align: middle;\n",
       "    }\n",
       "\n",
       "    .dataframe tbody tr th {\n",
       "        vertical-align: top;\n",
       "    }\n",
       "\n",
       "    .dataframe thead th {\n",
       "        text-align: right;\n",
       "    }\n",
       "</style>\n",
       "<table border=\"1\" class=\"dataframe\">\n",
       "  <thead>\n",
       "    <tr style=\"text-align: right;\">\n",
       "      <th></th>\n",
       "      <th>Party_ID</th>\n",
       "      <th>Source_country</th>\n",
       "      <th>Orgnization</th>\n",
       "      <th>Role</th>\n",
       "      <th>Sequence</th>\n",
       "      <th>Language</th>\n",
       "      <th>FirstName</th>\n",
       "      <th>SecondName</th>\n",
       "      <th>ThirdName</th>\n",
       "      <th>LastName</th>\n",
       "      <th>FullName</th>\n",
       "    </tr>\n",
       "  </thead>\n",
       "  <tbody>\n",
       "    <tr>\n",
       "      <th>764122</th>\n",
       "      <td>D4G45R-C</td>\n",
       "      <td>JO</td>\n",
       "      <td>PLC</td>\n",
       "      <td>AH</td>\n",
       "      <td>0</td>\n",
       "      <td>AR</td>\n",
       "      <td>NaN</td>\n",
       "      <td>محمد</td>\n",
       "      <td>كامل</td>\n",
       "      <td>حرزالله</td>\n",
       "      <td>محمد كامل حرزالله</td>\n",
       "    </tr>\n",
       "    <tr>\n",
       "      <th>34141</th>\n",
       "      <td>D7AU2P-C</td>\n",
       "      <td>JO</td>\n",
       "      <td>PLC</td>\n",
       "      <td>AH</td>\n",
       "      <td>0</td>\n",
       "      <td>EN</td>\n",
       "      <td>NaN</td>\n",
       "      <td>AWADH</td>\n",
       "      <td>NaN</td>\n",
       "      <td>SULAIMAN</td>\n",
       "      <td>AWADH  SULAIMAN</td>\n",
       "    </tr>\n",
       "    <tr>\n",
       "      <th>398149</th>\n",
       "      <td>DO50IR-C</td>\n",
       "      <td>JO</td>\n",
       "      <td>PLC</td>\n",
       "      <td>AH</td>\n",
       "      <td>0</td>\n",
       "      <td>AR</td>\n",
       "      <td>روان</td>\n",
       "      <td>ابراهيم</td>\n",
       "      <td>NaN</td>\n",
       "      <td>منصور</td>\n",
       "      <td>روان ابراهيم  منصور</td>\n",
       "    </tr>\n",
       "    <tr>\n",
       "      <th>916887</th>\n",
       "      <td>DUMMS8-C</td>\n",
       "      <td>JO</td>\n",
       "      <td>PLC</td>\n",
       "      <td>AH</td>\n",
       "      <td>0</td>\n",
       "      <td>EN</td>\n",
       "      <td>NaN</td>\n",
       "      <td>OMAR</td>\n",
       "      <td>ODEH</td>\n",
       "      <td>SANGKHA-INDRA</td>\n",
       "      <td>OMAR ODEH SANGKHA-INDRA</td>\n",
       "    </tr>\n",
       "    <tr>\n",
       "      <th>720722</th>\n",
       "      <td>D1OUD5-C</td>\n",
       "      <td>JO</td>\n",
       "      <td>PLC</td>\n",
       "      <td>AH</td>\n",
       "      <td>0</td>\n",
       "      <td>AR</td>\n",
       "      <td>NaN</td>\n",
       "      <td>ابراهيم</td>\n",
       "      <td>NaN</td>\n",
       "      <td>NaN</td>\n",
       "      <td>ابراهيم</td>\n",
       "    </tr>\n",
       "    <tr>\n",
       "      <th>361033</th>\n",
       "      <td>FKCGQF-C</td>\n",
       "      <td>JO</td>\n",
       "      <td>PLC</td>\n",
       "      <td>AH</td>\n",
       "      <td>0</td>\n",
       "      <td>EN</td>\n",
       "      <td>MOHAMMAD</td>\n",
       "      <td>MOHAMMAD</td>\n",
       "      <td>NaN</td>\n",
       "      <td>NaN</td>\n",
       "      <td>MOHAMMAD MOHAMMAD</td>\n",
       "    </tr>\n",
       "    <tr>\n",
       "      <th>52677</th>\n",
       "      <td>E410LM-C</td>\n",
       "      <td>JO</td>\n",
       "      <td>PLC</td>\n",
       "      <td>AH</td>\n",
       "      <td>0</td>\n",
       "      <td>AR</td>\n",
       "      <td>NaN</td>\n",
       "      <td>سليمان</td>\n",
       "      <td>محمود</td>\n",
       "      <td>NaN</td>\n",
       "      <td>سليمان محمود</td>\n",
       "    </tr>\n",
       "    <tr>\n",
       "      <th>299098</th>\n",
       "      <td>DM2RF3-C</td>\n",
       "      <td>JO</td>\n",
       "      <td>PLC</td>\n",
       "      <td>AH</td>\n",
       "      <td>0</td>\n",
       "      <td>AR</td>\n",
       "      <td>رسمي</td>\n",
       "      <td>محمدرجب</td>\n",
       "      <td>محمد</td>\n",
       "      <td>NaN</td>\n",
       "      <td>رسمي محمدرجب محمد</td>\n",
       "    </tr>\n",
       "    <tr>\n",
       "      <th>145051</th>\n",
       "      <td>EHTEDM-C</td>\n",
       "      <td>JO</td>\n",
       "      <td>PLC</td>\n",
       "      <td>AH</td>\n",
       "      <td>0</td>\n",
       "      <td>EN</td>\n",
       "      <td>BASEM</td>\n",
       "      <td>KHALIL</td>\n",
       "      <td>YOUSEF</td>\n",
       "      <td>AHMAD</td>\n",
       "      <td>BASEM KHALIL YOUSEF AHMAD</td>\n",
       "    </tr>\n",
       "    <tr>\n",
       "      <th>611322</th>\n",
       "      <td>DTOS25-C</td>\n",
       "      <td>JO</td>\n",
       "      <td>PLC</td>\n",
       "      <td>AH</td>\n",
       "      <td>0</td>\n",
       "      <td>AR</td>\n",
       "      <td>محمد</td>\n",
       "      <td>احمد</td>\n",
       "      <td>محمود</td>\n",
       "      <td>ابوغزاله</td>\n",
       "      <td>محمد احمد محمود ابوغزاله</td>\n",
       "    </tr>\n",
       "  </tbody>\n",
       "</table>\n",
       "</div>"
      ],
      "text/plain": [
       "        Party_ID Source_country Orgnization Role  Sequence Language  \\\n",
       "764122  D4G45R-C             JO         PLC   AH         0       AR   \n",
       "34141   D7AU2P-C             JO         PLC   AH         0       EN   \n",
       "398149  DO50IR-C             JO         PLC   AH         0       AR   \n",
       "916887  DUMMS8-C             JO         PLC   AH         0       EN   \n",
       "720722  D1OUD5-C             JO         PLC   AH         0       AR   \n",
       "361033  FKCGQF-C             JO         PLC   AH         0       EN   \n",
       "52677   E410LM-C             JO         PLC   AH         0       AR   \n",
       "299098  DM2RF3-C             JO         PLC   AH         0       AR   \n",
       "145051  EHTEDM-C             JO         PLC   AH         0       EN   \n",
       "611322  DTOS25-C             JO         PLC   AH         0       AR   \n",
       "\n",
       "              FirstName       SecondName        ThirdName         LastName  \\\n",
       "764122              NaN             محمد             كامل          حرزالله   \n",
       "34141               NaN            AWADH              NaN         SULAIMAN   \n",
       "398149             روان          ابراهيم              NaN            منصور   \n",
       "916887              NaN             OMAR             ODEH    SANGKHA-INDRA   \n",
       "720722              NaN          ابراهيم              NaN              NaN   \n",
       "361033         MOHAMMAD         MOHAMMAD              NaN              NaN   \n",
       "52677               NaN           سليمان            محمود              NaN   \n",
       "299098             رسمي          محمدرجب             محمد              NaN   \n",
       "145051            BASEM           KHALIL           YOUSEF            AHMAD   \n",
       "611322             محمد             احمد            محمود         ابوغزاله   \n",
       "\n",
       "                         FullName  \n",
       "764122          محمد كامل حرزالله  \n",
       "34141             AWADH  SULAIMAN  \n",
       "398149        روان ابراهيم  منصور  \n",
       "916887    OMAR ODEH SANGKHA-INDRA  \n",
       "720722                    ابراهيم  \n",
       "361033          MOHAMMAD MOHAMMAD  \n",
       "52677                سليمان محمود  \n",
       "299098          رسمي محمدرجب محمد  \n",
       "145051  BASEM KHALIL YOUSEF AHMAD  \n",
       "611322   محمد احمد محمود ابوغزاله  "
      ]
     },
     "execution_count": 48,
     "metadata": {},
     "output_type": "execute_result"
    }
   ],
   "source": [
    "names.sample(10)"
   ]
  },
  {
   "cell_type": "code",
   "execution_count": 49,
   "metadata": {},
   "outputs": [],
   "source": [
    "names['Organization'] = names['Orgnization']\r\n",
    "del names['Orgnization']"
   ]
  },
  {
   "cell_type": "code",
   "execution_count": 50,
   "metadata": {},
   "outputs": [],
   "source": [
    "names['FirstName'] = names.FirstName.str.strip()\r\n",
    "names['SecondName'] = names.SecondName.str.strip()\r\n",
    "names['ThirdName'] = names.ThirdName.str.strip()\r\n",
    "names['LastName'] = names.LastName.str.strip()\r\n",
    "names['FullName'] = names.FullName.str.strip()"
   ]
  },
  {
   "cell_type": "code",
   "execution_count": 51,
   "metadata": {},
   "outputs": [
    {
     "data": {
      "text/plain": [
       "EN    1324875\n",
       "AR    1324875\n",
       "Name: Language, dtype: int64"
      ]
     },
     "execution_count": 51,
     "metadata": {},
     "output_type": "execute_result"
    }
   ],
   "source": [
    "names['Language'].value_counts()"
   ]
  },
  {
   "cell_type": "code",
   "execution_count": 52,
   "metadata": {},
   "outputs": [
    {
     "data": {
      "text/plain": [
       "Index(['Party_ID', 'Source_country', 'Role', 'Sequence', 'Language',\n",
       "       'FirstName', 'SecondName', 'ThirdName', 'LastName', 'FullName',\n",
       "       'Organization'],\n",
       "      dtype='object')"
      ]
     },
     "execution_count": 52,
     "metadata": {},
     "output_type": "execute_result"
    }
   ],
   "source": [
    "names.columns"
   ]
  },
  {
   "cell_type": "code",
   "execution_count": 53,
   "metadata": {},
   "outputs": [],
   "source": [
    "names_ar = names[names['Language']== \"AR\"]\r\n",
    "names_en = names[names[\"Language\"]==\"EN\"]\r\n",
    "del names_ar ['Language']\r\n",
    "del names_en ['Language'] "
   ]
  },
  {
   "cell_type": "code",
   "execution_count": 54,
   "metadata": {},
   "outputs": [],
   "source": [
    "names_ar = names_ar.rename(columns={'FirstName': 'FirstName_AR', 'SecondName': 'SecondName_AR', 'ThirdName': 'ThirdName_AR', 'LastName': 'LastName_AR' , 'FullName': 'FullName_AR' })\r\n",
    "names_en = names_en.rename(columns={'FirstName': 'FirstName_EN', 'SecondName': 'SecondName_EN', 'ThirdName': 'ThirdName_EN', 'LastName': 'LastName_EN' , 'FullName': 'FullName_EN' })"
   ]
  },
  {
   "cell_type": "code",
   "execution_count": 55,
   "metadata": {},
   "outputs": [],
   "source": [
    "new_names =pd.merge(\r\n",
    "    names_ar,\r\n",
    "    names_en, \r\n",
    "    how='left',\r\n",
    "    left_on=['Party_ID', 'Source_country', 'Organization', 'Role', 'Sequence'],\r\n",
    "    right_on=['Party_ID', 'Source_country', 'Organization', 'Role', 'Sequence']\r\n",
    "    )\r\n"
   ]
  },
  {
   "cell_type": "code",
   "execution_count": 56,
   "metadata": {},
   "outputs": [],
   "source": [
    "new_names['ShortName_ar']= new_names['FirstName_AR']\r\n",
    "new_names['ShortName_en']= new_names['FirstName_EN']\r\n",
    "new_names['MotherName_ar']=new_names['SecondName_AR']\r\n",
    "new_names['MotherName_en']=new_names['SecondName_EN']"
   ]
  },
  {
   "cell_type": "code",
   "execution_count": 57,
   "metadata": {},
   "outputs": [
    {
     "name": "stdout",
     "output_type": "stream",
     "text": [
      "<class 'pandas.core.frame.DataFrame'>\n",
      "Int64Index: 1324875 entries, 0 to 1324874\n",
      "Data columns (total 19 columns):\n",
      " #   Column          Non-Null Count    Dtype \n",
      "---  ------          --------------    ----- \n",
      " 0   Party_ID        1324875 non-null  object\n",
      " 1   Source_country  1324875 non-null  object\n",
      " 2   Role            1324875 non-null  object\n",
      " 3   Sequence        1324875 non-null  int64 \n",
      " 4   FirstName_AR    1001689 non-null  object\n",
      " 5   SecondName_AR   997059 non-null   object\n",
      " 6   ThirdName_AR    952254 non-null   object\n",
      " 7   LastName_AR     1001481 non-null  object\n",
      " 8   FullName_AR     1318824 non-null  object\n",
      " 9   Organization    1324875 non-null  object\n",
      " 10  FirstName_EN    977926 non-null   object\n",
      " 11  SecondName_EN   929790 non-null   object\n",
      " 12  ThirdName_EN    857694 non-null   object\n",
      " 13  LastName_EN     977311 non-null   object\n",
      " 14  FullName_EN     1314412 non-null  object\n",
      " 15  ShortName_ar    1001689 non-null  object\n",
      " 16  ShortName_en    977926 non-null   object\n",
      " 17  MotherName_ar   997059 non-null   object\n",
      " 18  MotherName_en   929790 non-null   object\n",
      "dtypes: int64(1), object(18)\n",
      "memory usage: 202.2+ MB\n"
     ]
    }
   ],
   "source": [
    "new_names.info()"
   ]
  },
  {
   "cell_type": "code",
   "execution_count": 58,
   "metadata": {},
   "outputs": [],
   "source": [
    "new_nmes_sample = new_names.head()"
   ]
  },
  {
   "cell_type": "code",
   "execution_count": 59,
   "metadata": {},
   "outputs": [
    {
     "data": {
      "text/html": [
       "<div>\n",
       "<style scoped>\n",
       "    .dataframe tbody tr th:only-of-type {\n",
       "        vertical-align: middle;\n",
       "    }\n",
       "\n",
       "    .dataframe tbody tr th {\n",
       "        vertical-align: top;\n",
       "    }\n",
       "\n",
       "    .dataframe thead th {\n",
       "        text-align: right;\n",
       "    }\n",
       "</style>\n",
       "<table border=\"1\" class=\"dataframe\">\n",
       "  <thead>\n",
       "    <tr style=\"text-align: right;\">\n",
       "      <th></th>\n",
       "      <th>Party_ID</th>\n",
       "      <th>Source_country</th>\n",
       "      <th>Role</th>\n",
       "      <th>Sequence</th>\n",
       "      <th>FirstName_AR</th>\n",
       "      <th>SecondName_AR</th>\n",
       "      <th>ThirdName_AR</th>\n",
       "      <th>LastName_AR</th>\n",
       "      <th>FullName_AR</th>\n",
       "      <th>Organization</th>\n",
       "      <th>FirstName_EN</th>\n",
       "      <th>SecondName_EN</th>\n",
       "      <th>ThirdName_EN</th>\n",
       "      <th>LastName_EN</th>\n",
       "      <th>FullName_EN</th>\n",
       "      <th>ShortName_ar</th>\n",
       "      <th>ShortName_en</th>\n",
       "      <th>MotherName_ar</th>\n",
       "      <th>MotherName_en</th>\n",
       "    </tr>\n",
       "  </thead>\n",
       "  <tbody>\n",
       "    <tr>\n",
       "      <th>0</th>\n",
       "      <td>A8VKJ4-C</td>\n",
       "      <td>JO</td>\n",
       "      <td>AH</td>\n",
       "      <td>0</td>\n",
       "      <td>NaN</td>\n",
       "      <td>جمال</td>\n",
       "      <td>خليل</td>\n",
       "      <td>NaN</td>\n",
       "      <td>جمال خليل</td>\n",
       "      <td>PLC</td>\n",
       "      <td>NaN</td>\n",
       "      <td>M</td>\n",
       "      <td>NaN</td>\n",
       "      <td>NaN</td>\n",
       "      <td>M</td>\n",
       "      <td>NaN</td>\n",
       "      <td>NaN</td>\n",
       "      <td>جمال</td>\n",
       "      <td>M</td>\n",
       "    </tr>\n",
       "    <tr>\n",
       "      <th>1</th>\n",
       "      <td>BASSAM-C</td>\n",
       "      <td>JO</td>\n",
       "      <td>AH</td>\n",
       "      <td>0</td>\n",
       "      <td>زياد</td>\n",
       "      <td>صابر</td>\n",
       "      <td>هويمل</td>\n",
       "      <td>السليحات</td>\n",
       "      <td>زياد صابر هويمل السليحات</td>\n",
       "      <td>PLC</td>\n",
       "      <td>DEYA ALDEEN</td>\n",
       "      <td>HANI</td>\n",
       "      <td>MAHMOUD</td>\n",
       "      <td>NaN</td>\n",
       "      <td>DEYA ALDEEN HANI MAHMOUD</td>\n",
       "      <td>زياد</td>\n",
       "      <td>DEYA ALDEEN</td>\n",
       "      <td>صابر</td>\n",
       "      <td>HANI</td>\n",
       "    </tr>\n",
       "    <tr>\n",
       "      <th>2</th>\n",
       "      <td>CV5MJH-C</td>\n",
       "      <td>JO</td>\n",
       "      <td>AH</td>\n",
       "      <td>0</td>\n",
       "      <td>دانا</td>\n",
       "      <td>محمد خضر</td>\n",
       "      <td>عبد العزيز</td>\n",
       "      <td>الوليدات</td>\n",
       "      <td>دانا محمد خضر عبد العزيز الوليدات</td>\n",
       "      <td>PLC</td>\n",
       "      <td>RAJA</td>\n",
       "      <td>NaN</td>\n",
       "      <td>YASEEN</td>\n",
       "      <td>NaN</td>\n",
       "      <td>RAJA  YASEEN</td>\n",
       "      <td>دانا</td>\n",
       "      <td>RAJA</td>\n",
       "      <td>محمد خضر</td>\n",
       "      <td>NaN</td>\n",
       "    </tr>\n",
       "    <tr>\n",
       "      <th>3</th>\n",
       "      <td>C9L3HT-C</td>\n",
       "      <td>JO</td>\n",
       "      <td>AH</td>\n",
       "      <td>0</td>\n",
       "      <td>رضا</td>\n",
       "      <td>فرح</td>\n",
       "      <td>فتحي</td>\n",
       "      <td>الدغداشي</td>\n",
       "      <td>رضا فرح فتحي الدغداشي</td>\n",
       "      <td>PLC</td>\n",
       "      <td>AHMAD</td>\n",
       "      <td>ADNAN</td>\n",
       "      <td>NaN</td>\n",
       "      <td>NaN</td>\n",
       "      <td>AHMAD ADNAN</td>\n",
       "      <td>رضا</td>\n",
       "      <td>AHMAD</td>\n",
       "      <td>فرح</td>\n",
       "      <td>ADNAN</td>\n",
       "    </tr>\n",
       "    <tr>\n",
       "      <th>4</th>\n",
       "      <td>C9L3KC-C</td>\n",
       "      <td>JO</td>\n",
       "      <td>AH</td>\n",
       "      <td>0</td>\n",
       "      <td>عبد الرحمن</td>\n",
       "      <td>صالح</td>\n",
       "      <td>احمد</td>\n",
       "      <td>الهواري</td>\n",
       "      <td>عبد الرحمن صالح احمد الهواري</td>\n",
       "      <td>PLC</td>\n",
       "      <td>EMAD</td>\n",
       "      <td>NaN</td>\n",
       "      <td>ALI</td>\n",
       "      <td>ABUSBAITAN</td>\n",
       "      <td>EMAD  ALI ABUSBAITAN</td>\n",
       "      <td>عبد الرحمن</td>\n",
       "      <td>EMAD</td>\n",
       "      <td>صالح</td>\n",
       "      <td>NaN</td>\n",
       "    </tr>\n",
       "  </tbody>\n",
       "</table>\n",
       "</div>"
      ],
      "text/plain": [
       "   Party_ID Source_country Role  Sequence FirstName_AR SecondName_AR  \\\n",
       "0  A8VKJ4-C             JO   AH         0          NaN          جمال   \n",
       "1  BASSAM-C             JO   AH         0         زياد          صابر   \n",
       "2  CV5MJH-C             JO   AH         0         دانا      محمد خضر   \n",
       "3  C9L3HT-C             JO   AH         0          رضا           فرح   \n",
       "4  C9L3KC-C             JO   AH         0   عبد الرحمن          صالح   \n",
       "\n",
       "  ThirdName_AR LastName_AR                        FullName_AR Organization  \\\n",
       "0         خليل         NaN                          جمال خليل          PLC   \n",
       "1        هويمل    السليحات           زياد صابر هويمل السليحات          PLC   \n",
       "2   عبد العزيز    الوليدات  دانا محمد خضر عبد العزيز الوليدات          PLC   \n",
       "3         فتحي    الدغداشي              رضا فرح فتحي الدغداشي          PLC   \n",
       "4         احمد     الهواري       عبد الرحمن صالح احمد الهواري          PLC   \n",
       "\n",
       "  FirstName_EN SecondName_EN ThirdName_EN LastName_EN  \\\n",
       "0          NaN             M          NaN         NaN   \n",
       "1  DEYA ALDEEN          HANI      MAHMOUD         NaN   \n",
       "2         RAJA           NaN       YASEEN         NaN   \n",
       "3        AHMAD         ADNAN          NaN         NaN   \n",
       "4         EMAD           NaN          ALI  ABUSBAITAN   \n",
       "\n",
       "                FullName_EN ShortName_ar ShortName_en MotherName_ar  \\\n",
       "0                         M          NaN          NaN          جمال   \n",
       "1  DEYA ALDEEN HANI MAHMOUD         زياد  DEYA ALDEEN          صابر   \n",
       "2              RAJA  YASEEN         دانا         RAJA      محمد خضر   \n",
       "3               AHMAD ADNAN          رضا        AHMAD           فرح   \n",
       "4      EMAD  ALI ABUSBAITAN   عبد الرحمن         EMAD          صالح   \n",
       "\n",
       "  MotherName_en  \n",
       "0             M  \n",
       "1          HANI  \n",
       "2           NaN  \n",
       "3         ADNAN  \n",
       "4           NaN  "
      ]
     },
     "execution_count": 59,
     "metadata": {},
     "output_type": "execute_result"
    }
   ],
   "source": [
    "new_nmes_sample"
   ]
  },
  {
   "cell_type": "code",
   "execution_count": 60,
   "metadata": {},
   "outputs": [],
   "source": [
    "new_nmes_sample.to_csv(\"C:/Users/csh1/Desktop/final_data/new_nmes_sample.csv\" , index= False)"
   ]
  },
  {
   "cell_type": "code",
   "execution_count": 61,
   "metadata": {},
   "outputs": [
    {
     "data": {
      "text/html": [
       "<div>\n",
       "<style scoped>\n",
       "    .dataframe tbody tr th:only-of-type {\n",
       "        vertical-align: middle;\n",
       "    }\n",
       "\n",
       "    .dataframe tbody tr th {\n",
       "        vertical-align: top;\n",
       "    }\n",
       "\n",
       "    .dataframe thead th {\n",
       "        text-align: right;\n",
       "    }\n",
       "</style>\n",
       "<table border=\"1\" class=\"dataframe\">\n",
       "  <thead>\n",
       "    <tr style=\"text-align: right;\">\n",
       "      <th></th>\n",
       "      <th>Party_ID</th>\n",
       "      <th>Source_country</th>\n",
       "      <th>Role</th>\n",
       "      <th>Sequence</th>\n",
       "      <th>FirstName_AR</th>\n",
       "      <th>SecondName_AR</th>\n",
       "      <th>ThirdName_AR</th>\n",
       "      <th>LastName_AR</th>\n",
       "      <th>FullName_AR</th>\n",
       "      <th>Organization</th>\n",
       "      <th>FirstName_EN</th>\n",
       "      <th>SecondName_EN</th>\n",
       "      <th>ThirdName_EN</th>\n",
       "      <th>LastName_EN</th>\n",
       "      <th>FullName_EN</th>\n",
       "      <th>ShortName_ar</th>\n",
       "      <th>ShortName_en</th>\n",
       "      <th>MotherName_ar</th>\n",
       "      <th>MotherName_en</th>\n",
       "    </tr>\n",
       "  </thead>\n",
       "  <tbody>\n",
       "    <tr>\n",
       "      <th>813410</th>\n",
       "      <td>D6BRDS-C</td>\n",
       "      <td>JO</td>\n",
       "      <td>AH</td>\n",
       "      <td>0</td>\n",
       "      <td>اسلا م</td>\n",
       "      <td>عبوده</td>\n",
       "      <td>احمد</td>\n",
       "      <td>NaN</td>\n",
       "      <td>اسلا م عبوده احمد</td>\n",
       "      <td>PLC</td>\n",
       "      <td>ATTALLA</td>\n",
       "      <td>MOHAMMAD ALI</td>\n",
       "      <td>M</td>\n",
       "      <td>ISKNDAR</td>\n",
       "      <td>ATTALLA MOHAMMAD ALI M ISKNDAR</td>\n",
       "      <td>اسلا م</td>\n",
       "      <td>ATTALLA</td>\n",
       "      <td>عبوده</td>\n",
       "      <td>MOHAMMAD ALI</td>\n",
       "    </tr>\n",
       "  </tbody>\n",
       "</table>\n",
       "</div>"
      ],
      "text/plain": [
       "        Party_ID Source_country Role  Sequence FirstName_AR SecondName_AR  \\\n",
       "813410  D6BRDS-C             JO   AH         0       اسلا م         عبوده   \n",
       "\n",
       "       ThirdName_AR LastName_AR        FullName_AR Organization FirstName_EN  \\\n",
       "813410         احمد         NaN  اسلا م عبوده احمد          PLC      ATTALLA   \n",
       "\n",
       "       SecondName_EN ThirdName_EN LastName_EN                     FullName_EN  \\\n",
       "813410  MOHAMMAD ALI            M     ISKNDAR  ATTALLA MOHAMMAD ALI M ISKNDAR   \n",
       "\n",
       "       ShortName_ar ShortName_en MotherName_ar MotherName_en  \n",
       "813410       اسلا م      ATTALLA         عبوده  MOHAMMAD ALI  "
      ]
     },
     "execution_count": 61,
     "metadata": {},
     "output_type": "execute_result"
    }
   ],
   "source": [
    "new_names[new_names['Party_ID']==\"D6BRDS-C\"]"
   ]
  },
  {
   "cell_type": "code",
   "execution_count": 11,
   "metadata": {},
   "outputs": [],
   "source": [
    "Elasticsearch_URL = '10.101.15.31:9200'\r\n",
    "Elasticsearch_username = 'elastic'\r\n",
    "Elasticsearch_pass = 'abtest' \r\n",
    "es = Elasticsearch( \r\n",
    "                        hosts=[Elasticsearch_URL],\r\n",
    "                        http_auth=(Elasticsearch_username, Elasticsearch_pass),\r\n",
    "                       )"
   ]
  },
  {
   "cell_type": "code",
   "execution_count": 69,
   "metadata": {},
   "outputs": [],
   "source": [
    "es.close()"
   ]
  },
  {
   "cell_type": "code",
   "execution_count": 72,
   "metadata": {},
   "outputs": [
    {
     "name": "stdout",
     "output_type": "stream",
     "text": [
      "Add All Data for names\n"
     ]
    }
   ],
   "source": [
    "new_names = new_names.fillna(\"\")\r\n",
    "\r\n",
    "for index , row in new_names.iterrows() :\r\n",
    "    row = dict(row)\r\n",
    "    es.index( index=\"names\" , body=row )\r\n",
    "\r\n",
    "print(\"Add All Data for names\")"
   ]
  },
  {
   "cell_type": "code",
   "execution_count": 60,
   "metadata": {},
   "outputs": [
    {
     "name": "stdout",
     "output_type": "stream",
     "text": [
      "<class 'pandas.core.frame.DataFrame'>\n",
      "Int64Index: 1324875 entries, 0 to 1324874\n",
      "Data columns (total 15 columns):\n",
      " #   Column          Non-Null Count    Dtype \n",
      "---  ------          --------------    ----- \n",
      " 0   Party_ID        1324875 non-null  object\n",
      " 1   Source_country  1324875 non-null  object\n",
      " 2   Orgnization     1324875 non-null  object\n",
      " 3   Role            1324875 non-null  object\n",
      " 4   Sequence        1324875 non-null  int64 \n",
      " 5   FirstName_AR    1324875 non-null  object\n",
      " 6   SecondName_AR   1324875 non-null  object\n",
      " 7   ThirdName_AR    1324875 non-null  object\n",
      " 8   LastName_AR     1324875 non-null  object\n",
      " 9   FullName_AR     1324875 non-null  object\n",
      " 10  FirstName_EN    1324875 non-null  object\n",
      " 11  SecondName_EN   1324875 non-null  object\n",
      " 12  ThirdName_EN    1324875 non-null  object\n",
      " 13  LastName_EN     1324875 non-null  object\n",
      " 14  FullName_EN     1324875 non-null  object\n",
      "dtypes: int64(1), object(14)\n",
      "memory usage: 194.0+ MB\n"
     ]
    }
   ],
   "source": [
    "new_names.info()"
   ]
  },
  {
   "cell_type": "code",
   "execution_count": 39,
   "metadata": {},
   "outputs": [],
   "source": [
    "# Get Setting File\r\n",
    "query = dict()\r\n",
    "query['query']={\"match_all\": {} } \r\n",
    "settings_file = es.search(index=\"index_settings\" , body=query)\r\n",
    "setting_list = list()\r\n",
    "for row  in settings_file['hits']['hits'] : \r\n",
    "    row['_source']['Id']=row['_id']\r\n",
    "    setting_list.append(row['_source'])\r\n",
    "settings_file = pd.DataFrame(setting_list)"
   ]
  },
  {
   "cell_type": "code",
   "execution_count": 41,
   "metadata": {},
   "outputs": [
    {
     "name": "stdout",
     "output_type": "stream",
     "text": [
      "<class 'pandas.core.frame.DataFrame'>\n",
      "RangeIndex: 10 entries, 0 to 9\n",
      "Data columns (total 12 columns):\n",
      " #   Column              Non-Null Count  Dtype \n",
      "---  ------              --------------  ----- \n",
      " 0   value_type          10 non-null     object\n",
      " 1   keys                10 non-null     object\n",
      " 2   index               10 non-null     object\n",
      " 3   language            10 non-null     object\n",
      " 4   global_weight       10 non-null     int64 \n",
      " 5   search_type         10 non-null     object\n",
      " 6   pre_processing      10 non-null     object\n",
      " 7   field               10 non-null     object\n",
      " 8   data_type           10 non-null     object\n",
      " 9   local_weight        10 non-null     int64 \n",
      " 10  weight_calculation  10 non-null     object\n",
      " 11  Id                  10 non-null     object\n",
      "dtypes: int64(2), object(10)\n",
      "memory usage: 1.1+ KB\n"
     ]
    }
   ],
   "source": [
    "settings_file.info()"
   ]
  },
  {
   "cell_type": "code",
   "execution_count": 40,
   "metadata": {},
   "outputs": [
    {
     "data": {
      "text/html": [
       "<div>\n",
       "<style scoped>\n",
       "    .dataframe tbody tr th:only-of-type {\n",
       "        vertical-align: middle;\n",
       "    }\n",
       "\n",
       "    .dataframe tbody tr th {\n",
       "        vertical-align: top;\n",
       "    }\n",
       "\n",
       "    .dataframe thead th {\n",
       "        text-align: right;\n",
       "    }\n",
       "</style>\n",
       "<table border=\"1\" class=\"dataframe\">\n",
       "  <thead>\n",
       "    <tr style=\"text-align: right;\">\n",
       "      <th></th>\n",
       "      <th>value_type</th>\n",
       "      <th>keys</th>\n",
       "      <th>index</th>\n",
       "      <th>language</th>\n",
       "      <th>global_weight</th>\n",
       "      <th>search_type</th>\n",
       "      <th>pre_processing</th>\n",
       "      <th>field</th>\n",
       "      <th>data_type</th>\n",
       "      <th>local_weight</th>\n",
       "      <th>weight_calculation</th>\n",
       "      <th>Id</th>\n",
       "    </tr>\n",
       "  </thead>\n",
       "  <tbody>\n",
       "    <tr>\n",
       "      <th>0</th>\n",
       "      <td>single</td>\n",
       "      <td>TRUE</td>\n",
       "      <td>parties</td>\n",
       "      <td>en</td>\n",
       "      <td>0</td>\n",
       "      <td>deterministic</td>\n",
       "      <td>FALSE</td>\n",
       "      <td>Party_ID</td>\n",
       "      <td>str</td>\n",
       "      <td>0</td>\n",
       "      <td>TRUE</td>\n",
       "      <td>Iw_JD3oBevTOybT__SGF</td>\n",
       "    </tr>\n",
       "    <tr>\n",
       "      <th>1</th>\n",
       "      <td>single</td>\n",
       "      <td>FALSE</td>\n",
       "      <td>parties</td>\n",
       "      <td>en</td>\n",
       "      <td>0</td>\n",
       "      <td>deterministic</td>\n",
       "      <td>FALSE</td>\n",
       "      <td>Party_Type</td>\n",
       "      <td>str</td>\n",
       "      <td>0</td>\n",
       "      <td>TRUE</td>\n",
       "      <td>JA_JD3oBevTOybT__SGF</td>\n",
       "    </tr>\n",
       "    <tr>\n",
       "      <th>2</th>\n",
       "      <td>single</td>\n",
       "      <td>FALSE</td>\n",
       "      <td>parties</td>\n",
       "      <td>en</td>\n",
       "      <td>0</td>\n",
       "      <td>deterministic</td>\n",
       "      <td>FALSE</td>\n",
       "      <td>IsSearchable</td>\n",
       "      <td>str</td>\n",
       "      <td>0</td>\n",
       "      <td>TRUE</td>\n",
       "      <td>JQ_JD3oBevTOybT__SGF</td>\n",
       "    </tr>\n",
       "    <tr>\n",
       "      <th>3</th>\n",
       "      <td>single</td>\n",
       "      <td>FALSE</td>\n",
       "      <td>parties</td>\n",
       "      <td>en</td>\n",
       "      <td>0</td>\n",
       "      <td>deterministic</td>\n",
       "      <td>FALSE</td>\n",
       "      <td>Isdeleted</td>\n",
       "      <td>str</td>\n",
       "      <td>0</td>\n",
       "      <td>TRUE</td>\n",
       "      <td>Jg_JD3oBevTOybT__SGF</td>\n",
       "    </tr>\n",
       "    <tr>\n",
       "      <th>4</th>\n",
       "      <td>single</td>\n",
       "      <td>TRUE</td>\n",
       "      <td>nationalities</td>\n",
       "      <td>en</td>\n",
       "      <td>0</td>\n",
       "      <td>deterministic</td>\n",
       "      <td>FALSE</td>\n",
       "      <td>Party_ID</td>\n",
       "      <td>str</td>\n",
       "      <td>0</td>\n",
       "      <td>TRUE</td>\n",
       "      <td>Jw_JD3oBevTOybT__SGF</td>\n",
       "    </tr>\n",
       "  </tbody>\n",
       "</table>\n",
       "</div>"
      ],
      "text/plain": [
       "  value_type   keys           index language  global_weight    search_type  \\\n",
       "0     single   TRUE         parties       en              0  deterministic   \n",
       "1     single  FALSE         parties       en              0  deterministic   \n",
       "2     single  FALSE         parties       en              0  deterministic   \n",
       "3     single  FALSE         parties       en              0  deterministic   \n",
       "4     single   TRUE  nationalities        en              0  deterministic   \n",
       "\n",
       "  pre_processing         field data_type  local_weight weight_calculation  \\\n",
       "0          FALSE      Party_ID       str             0               TRUE   \n",
       "1          FALSE    Party_Type       str             0               TRUE   \n",
       "2          FALSE  IsSearchable       str             0               TRUE   \n",
       "3          FALSE     Isdeleted       str             0               TRUE   \n",
       "4          FALSE      Party_ID       str             0               TRUE   \n",
       "\n",
       "                     Id  \n",
       "0  Iw_JD3oBevTOybT__SGF  \n",
       "1  JA_JD3oBevTOybT__SGF  \n",
       "2  JQ_JD3oBevTOybT__SGF  \n",
       "3  Jg_JD3oBevTOybT__SGF  \n",
       "4  Jw_JD3oBevTOybT__SGF  "
      ]
     },
     "execution_count": 40,
     "metadata": {},
     "output_type": "execute_result"
    }
   ],
   "source": [
    "settings_file.head()"
   ]
  },
  {
   "cell_type": "code",
   "execution_count": null,
   "metadata": {},
   "outputs": [],
   "source": []
  },
  {
   "cell_type": "code",
   "execution_count": null,
   "metadata": {},
   "outputs": [],
   "source": []
  },
  {
   "cell_type": "code",
   "execution_count": null,
   "metadata": {},
   "outputs": [],
   "source": []
  },
  {
   "cell_type": "code",
   "execution_count": 63,
   "metadata": {},
   "outputs": [],
   "source": [
    "from collections import Counter\r\n",
    "from math import sqrt\r\n",
    "\r\n",
    "def word2vec(word):\r\n",
    "    \r\n",
    "\r\n",
    "    # count the characters in word\r\n",
    "    cw = Counter(word)\r\n",
    "    # precomputes a set of the different characters\r\n",
    "    sw = set(cw)\r\n",
    "    # precomputes the \"length\" of the word vector\r\n",
    "    lw = sqrt(sum(c*c for c in cw.values()))\r\n",
    "\r\n",
    "    # return a tuple\r\n",
    "    return cw, sw, lw\r\n",
    "\r\n",
    "def cosdis(v1, v2) :\r\n",
    "    # which characters are common to the two words?\r\n",
    "    common = v1[1].intersection(v2[1])\r\n",
    "    # by definition of cosine distance we have\r\n",
    "    return sum(v1[0][ch]*v2[0][ch] for ch in common)/v1[2]/v2[2]"
   ]
  },
  {
   "cell_type": "code",
   "execution_count": 106,
   "metadata": {},
   "outputs": [
    {
     "data": {
      "text/plain": [
       "0.8571428571428571"
      ]
     },
     "execution_count": 106,
     "metadata": {},
     "output_type": "execute_result"
    }
   ],
   "source": [
    "_doc_1 = \"majda\"\r\n",
    "_doc_2 = \"magda\"\r\n",
    "v_doc_1 = word2vec(_doc_1)\r\n",
    "v_doc_2 = word2vec(_doc_2)\r\n",
    "\r\n",
    "scoure = cosdis(v_doc_1,v_doc_2)\r\n",
    "if scoure < 85 and scoure > 60 : \r\n",
    "    scoure = scoure * 15/100\r\n",
    "elif scoure > 100 : \r\n",
    "    scoure = 100 \r\n",
    "scoure"
   ]
  },
  {
   "cell_type": "code",
   "execution_count": 88,
   "metadata": {},
   "outputs": [
    {
     "data": {
      "text/plain": [
       "0.84"
      ]
     },
     "execution_count": 88,
     "metadata": {},
     "output_type": "execute_result"
    }
   ],
   "source": [
    "(0.75 * 10/100 )\r\n",
    "(0.75 * 12/100 ) + 0.75"
   ]
  },
  {
   "cell_type": "markdown",
   "metadata": {},
   "source": []
  },
  {
   "cell_type": "code",
   "execution_count": 118,
   "metadata": {},
   "outputs": [
    {
     "data": {
      "text/plain": [
       "datetime.datetime(2021, 6, 28, 12, 59, 50, 646287)"
      ]
     },
     "execution_count": 118,
     "metadata": {},
     "output_type": "execute_result"
    }
   ],
   "source": [
    "import datetime\r\n",
    "datetime.datetime.now()"
   ]
  },
  {
   "cell_type": "code",
   "execution_count": 121,
   "metadata": {},
   "outputs": [],
   "source": [
    "pre_data = pd.read_excel (\"C:/Users/csh1/Desktop/AB_Phonetics/static/files/pre_processing.xlsx\")"
   ]
  },
  {
   "cell_type": "code",
   "execution_count": 122,
   "metadata": {},
   "outputs": [
    {
     "data": {
      "text/html": [
       "<div>\n",
       "<style scoped>\n",
       "    .dataframe tbody tr th:only-of-type {\n",
       "        vertical-align: middle;\n",
       "    }\n",
       "\n",
       "    .dataframe tbody tr th {\n",
       "        vertical-align: top;\n",
       "    }\n",
       "\n",
       "    .dataframe thead th {\n",
       "        text-align: right;\n",
       "    }\n",
       "</style>\n",
       "<table border=\"1\" class=\"dataframe\">\n",
       "  <thead>\n",
       "    <tr style=\"text-align: right;\">\n",
       "      <th></th>\n",
       "      <th>language</th>\n",
       "      <th>character</th>\n",
       "      <th>replae_to</th>\n",
       "      <th>Unnamed: 3</th>\n",
       "    </tr>\n",
       "  </thead>\n",
       "  <tbody>\n",
       "    <tr>\n",
       "      <th>0</th>\n",
       "      <td>ar</td>\n",
       "      <td>إ</td>\n",
       "      <td>ا</td>\n",
       "      <td>NaN</td>\n",
       "    </tr>\n",
       "    <tr>\n",
       "      <th>1</th>\n",
       "      <td>ar</td>\n",
       "      <td>أ</td>\n",
       "      <td>ا</td>\n",
       "      <td>NaN</td>\n",
       "    </tr>\n",
       "    <tr>\n",
       "      <th>2</th>\n",
       "      <td>ar</td>\n",
       "      <td>آ</td>\n",
       "      <td>ا</td>\n",
       "      <td>NaN</td>\n",
       "    </tr>\n",
       "    <tr>\n",
       "      <th>3</th>\n",
       "      <td>ar</td>\n",
       "      <td>ة</td>\n",
       "      <td>ا</td>\n",
       "      <td>NaN</td>\n",
       "    </tr>\n",
       "    <tr>\n",
       "      <th>4</th>\n",
       "      <td>ar</td>\n",
       "      <td>ى</td>\n",
       "      <td>ا</td>\n",
       "      <td>NaN</td>\n",
       "    </tr>\n",
       "  </tbody>\n",
       "</table>\n",
       "</div>"
      ],
      "text/plain": [
       "  language character replae_to  Unnamed: 3\n",
       "0       ar         إ         ا         NaN\n",
       "1       ar         أ         ا         NaN\n",
       "2       ar         آ         ا         NaN\n",
       "3       ar         ة         ا         NaN\n",
       "4       ar         ى         ا         NaN"
      ]
     },
     "execution_count": 122,
     "metadata": {},
     "output_type": "execute_result"
    }
   ],
   "source": [
    "pre_data.head()"
   ]
  },
  {
   "cell_type": "code",
   "execution_count": 123,
   "metadata": {},
   "outputs": [],
   "source": [
    "pre_data.to_csv(\"C:/Users/csh1/Desktop/AB_Phonetics/static/files/pre_processing.csv\" , index= False)"
   ]
  },
  {
   "cell_type": "code",
   "execution_count": 42,
   "metadata": {},
   "outputs": [
    {
     "name": "stdout",
     "output_type": "stream",
     "text": [
      "<class 'str'>\n",
      "{'Role':'AH','Source_country':'JOR','Organization':'AB','Nationality':'','Sequence':'','Naional_Number':9571024449,'ID_Number':9571024449}\n"
     ]
    },
    {
     "data": {
      "text/plain": [
       "'134a67233ac557f1c838ca726f21b351'"
      ]
     },
     "execution_count": 42,
     "metadata": {},
     "output_type": "execute_result"
    }
   ],
   "source": [
    "\r\n",
    "import json\r\n",
    "import hashlib\r\n",
    "word = {'Role': 'AH', 'Source_country': 'JOR', 'Organization': 'AB', 'Nationality': '', 'Sequence': '', 'Naional_Number': 9571024449, 'ID_Number': 9571024449}\r\n",
    "\r\n",
    "word = '''{}'''.format(word)\r\n",
    "word = word.replace(', ',',')\r\n",
    "word = word.replace(' ,',',')\r\n",
    "word = word.replace(': ',':')\r\n",
    "word = word.strip()\r\n",
    "print (type (word))\r\n",
    "print(word)\r\n",
    "#checksum = json.dumps(word).encode(\"utf-8\")\r\n",
    "#print(str (checksum))\r\n",
    "checksum = hashlib.md5(word.encode()).hexdigest() \r\n",
    "checksum"
   ]
  },
  {
   "cell_type": "code",
   "execution_count": 7,
   "metadata": {},
   "outputs": [],
   "source": [
    "new_data = pd.read_excel (\"C:/Users/csh1/Desktop/SRC_NAMES1.xlsx\")"
   ]
  },
  {
   "cell_type": "code",
   "execution_count": 8,
   "metadata": {},
   "outputs": [
    {
     "name": "stdout",
     "output_type": "stream",
     "text": [
      "<class 'pandas.core.frame.DataFrame'>\n",
      "RangeIndex: 2852 entries, 0 to 2851\n",
      "Data columns (total 19 columns):\n",
      " #   Column          Non-Null Count  Dtype  \n",
      "---  ------          --------------  -----  \n",
      " 0   Party_ID        2852 non-null   object \n",
      " 1   Source_country  2852 non-null   object \n",
      " 2   Organization    2852 non-null   object \n",
      " 3   Role            2852 non-null   object \n",
      " 4   Sequence        2852 non-null   int64  \n",
      " 5   FirstName_EN    2648 non-null   object \n",
      " 6   SecondName_EN   2608 non-null   object \n",
      " 7   ThirdName_EN    2571 non-null   object \n",
      " 8   LastName_EN     2636 non-null   object \n",
      " 9   FullName_EN     100 non-null    object \n",
      " 10  FirstName_AR    2852 non-null   object \n",
      " 11  SecondName_AR   2852 non-null   object \n",
      " 12  ThirdName_AR    2852 non-null   object \n",
      " 13  LastName_AR     2852 non-null   object \n",
      " 14  FullName_AR     2852 non-null   object \n",
      " 15  ShortName_AR    0 non-null      float64\n",
      " 16  ShortName_EN    0 non-null      float64\n",
      " 17  MotherName_AR   0 non-null      float64\n",
      " 18  MotherName_EN   0 non-null      float64\n",
      "dtypes: float64(4), int64(1), object(14)\n",
      "memory usage: 423.5+ KB\n"
     ]
    }
   ],
   "source": [
    "new_data.info()"
   ]
  },
  {
   "cell_type": "code",
   "execution_count": 5,
   "metadata": {},
   "outputs": [],
   "source": [
    "new_data['FirstName_EN'] = new_data.FirstName_EN.str.strip()\r\n",
    "new_data['SecondName_EN'] = new_data.SecondName_EN.str.strip()\r\n",
    "new_data['ThirdName_EN'] = new_data.ThirdName_EN.str.strip()\r\n",
    "new_data['LastName_EN'] = new_data.LastName_EN.str.strip()\r\n",
    "new_data['FullName_EN'] = new_data.FullName_EN.str.strip()\r\n",
    "\r\n",
    "new_data['FirstName_AR'] = new_data.FirstName_AR.str.strip()\r\n",
    "new_data['SecondName_AR'] = new_data.SecondName_AR.str.strip()\r\n",
    "new_data['ThirdName_AR'] = new_data.ThirdName_AR.str.strip()\r\n",
    "new_data['LastName_AR'] = new_data.LastName_AR.str.strip()\r\n",
    "new_data['FullName_AR'] = new_data.FullName_AR.str.strip()\r\n"
   ]
  },
  {
   "cell_type": "code",
   "execution_count": 9,
   "metadata": {},
   "outputs": [
    {
     "name": "stdout",
     "output_type": "stream",
     "text": [
      "<class 'pandas.core.frame.DataFrame'>\n",
      "RangeIndex: 2852 entries, 0 to 2851\n",
      "Data columns (total 19 columns):\n",
      " #   Column          Non-Null Count  Dtype \n",
      "---  ------          --------------  ----- \n",
      " 0   Party_ID        2852 non-null   object\n",
      " 1   Source_country  2852 non-null   object\n",
      " 2   Organization    2852 non-null   object\n",
      " 3   Role            2852 non-null   object\n",
      " 4   Sequence        2852 non-null   int64 \n",
      " 5   FirstName_EN    2852 non-null   object\n",
      " 6   SecondName_EN   2852 non-null   object\n",
      " 7   ThirdName_EN    2852 non-null   object\n",
      " 8   LastName_EN     2852 non-null   object\n",
      " 9   FullName_EN     2852 non-null   object\n",
      " 10  FirstName_AR    2852 non-null   object\n",
      " 11  SecondName_AR   2852 non-null   object\n",
      " 12  ThirdName_AR    2852 non-null   object\n",
      " 13  LastName_AR     2852 non-null   object\n",
      " 14  FullName_AR     2852 non-null   object\n",
      " 15  ShortName_AR    2852 non-null   object\n",
      " 16  ShortName_EN    2852 non-null   object\n",
      " 17  MotherName_AR   2852 non-null   object\n",
      " 18  MotherName_EN   2852 non-null   object\n",
      "dtypes: int64(1), object(18)\n",
      "memory usage: 423.5+ KB\n"
     ]
    }
   ],
   "source": [
    "new_data = new_data.fillna(\"\")\r\n",
    "new_data.info()"
   ]
  },
  {
   "cell_type": "code",
   "execution_count": 145,
   "metadata": {},
   "outputs": [
    {
     "ename": "KeyboardInterrupt",
     "evalue": "",
     "output_type": "error",
     "traceback": [
      "\u001b[1;31m---------------------------------------------------------------------------\u001b[0m",
      "\u001b[1;31mKeyboardInterrupt\u001b[0m                         Traceback (most recent call last)",
      "\u001b[1;32m<ipython-input-145-e4a459d38d58>\u001b[0m in \u001b[0;36m<module>\u001b[1;34m\u001b[0m\n\u001b[0;32m      1\u001b[0m \u001b[1;32mfor\u001b[0m \u001b[0mindex\u001b[0m \u001b[1;33m,\u001b[0m \u001b[0mrow\u001b[0m \u001b[1;32min\u001b[0m \u001b[0mnew_data\u001b[0m\u001b[1;33m.\u001b[0m\u001b[0miterrows\u001b[0m\u001b[1;33m(\u001b[0m\u001b[1;33m)\u001b[0m \u001b[1;33m:\u001b[0m\u001b[1;33m\u001b[0m\u001b[1;33m\u001b[0m\u001b[0m\n\u001b[0;32m      2\u001b[0m     \u001b[0mrow\u001b[0m \u001b[1;33m=\u001b[0m \u001b[0mdict\u001b[0m\u001b[1;33m(\u001b[0m\u001b[0mrow\u001b[0m\u001b[1;33m)\u001b[0m\u001b[1;33m\u001b[0m\u001b[1;33m\u001b[0m\u001b[0m\n\u001b[1;32m----> 3\u001b[1;33m     \u001b[0mes\u001b[0m\u001b[1;33m.\u001b[0m\u001b[0mindex\u001b[0m\u001b[1;33m(\u001b[0m \u001b[0mindex\u001b[0m\u001b[1;33m=\u001b[0m\u001b[1;34m\"names\"\u001b[0m \u001b[1;33m,\u001b[0m \u001b[0mbody\u001b[0m\u001b[1;33m=\u001b[0m\u001b[0mrow\u001b[0m \u001b[1;33m)\u001b[0m\u001b[1;33m\u001b[0m\u001b[1;33m\u001b[0m\u001b[0m\n\u001b[0m\u001b[0;32m      4\u001b[0m \u001b[1;33m\u001b[0m\u001b[0m\n\u001b[0;32m      5\u001b[0m \u001b[0mprint\u001b[0m\u001b[1;33m(\u001b[0m\u001b[1;34m\"Add All Data for names\"\u001b[0m\u001b[1;33m)\u001b[0m\u001b[1;33m\u001b[0m\u001b[1;33m\u001b[0m\u001b[0m\n",
      "\u001b[1;32mC:\\python\\lib\\site-packages\\elasticsearch\\client\\utils.py\u001b[0m in \u001b[0;36m_wrapped\u001b[1;34m(*args, **kwargs)\u001b[0m\n\u001b[0;32m    151\u001b[0m                 \u001b[1;32mif\u001b[0m \u001b[0mp\u001b[0m \u001b[1;32min\u001b[0m \u001b[0mkwargs\u001b[0m\u001b[1;33m:\u001b[0m\u001b[1;33m\u001b[0m\u001b[1;33m\u001b[0m\u001b[0m\n\u001b[0;32m    152\u001b[0m                     \u001b[0mparams\u001b[0m\u001b[1;33m[\u001b[0m\u001b[0mp\u001b[0m\u001b[1;33m]\u001b[0m \u001b[1;33m=\u001b[0m \u001b[0mkwargs\u001b[0m\u001b[1;33m.\u001b[0m\u001b[0mpop\u001b[0m\u001b[1;33m(\u001b[0m\u001b[0mp\u001b[0m\u001b[1;33m)\u001b[0m\u001b[1;33m\u001b[0m\u001b[1;33m\u001b[0m\u001b[0m\n\u001b[1;32m--> 153\u001b[1;33m             \u001b[1;32mreturn\u001b[0m \u001b[0mfunc\u001b[0m\u001b[1;33m(\u001b[0m\u001b[1;33m*\u001b[0m\u001b[0margs\u001b[0m\u001b[1;33m,\u001b[0m \u001b[0mparams\u001b[0m\u001b[1;33m=\u001b[0m\u001b[0mparams\u001b[0m\u001b[1;33m,\u001b[0m \u001b[0mheaders\u001b[0m\u001b[1;33m=\u001b[0m\u001b[0mheaders\u001b[0m\u001b[1;33m,\u001b[0m \u001b[1;33m**\u001b[0m\u001b[0mkwargs\u001b[0m\u001b[1;33m)\u001b[0m\u001b[1;33m\u001b[0m\u001b[1;33m\u001b[0m\u001b[0m\n\u001b[0m\u001b[0;32m    154\u001b[0m \u001b[1;33m\u001b[0m\u001b[0m\n\u001b[0;32m    155\u001b[0m         \u001b[1;32mreturn\u001b[0m \u001b[0m_wrapped\u001b[0m\u001b[1;33m\u001b[0m\u001b[1;33m\u001b[0m\u001b[0m\n",
      "\u001b[1;32mC:\\python\\lib\\site-packages\\elasticsearch\\client\\__init__.py\u001b[0m in \u001b[0;36mindex\u001b[1;34m(self, index, body, doc_type, id, params, headers)\u001b[0m\n\u001b[0;32m    396\u001b[0m             \u001b[0mdoc_type\u001b[0m \u001b[1;33m=\u001b[0m \u001b[1;34m\"_doc\"\u001b[0m\u001b[1;33m\u001b[0m\u001b[1;33m\u001b[0m\u001b[0m\n\u001b[0;32m    397\u001b[0m \u001b[1;33m\u001b[0m\u001b[0m\n\u001b[1;32m--> 398\u001b[1;33m         return self.transport.perform_request(\n\u001b[0m\u001b[0;32m    399\u001b[0m             \u001b[1;34m\"POST\"\u001b[0m \u001b[1;32mif\u001b[0m \u001b[0mid\u001b[0m \u001b[1;32min\u001b[0m \u001b[0mSKIP_IN_PATH\u001b[0m \u001b[1;32melse\u001b[0m \u001b[1;34m\"PUT\"\u001b[0m\u001b[1;33m,\u001b[0m\u001b[1;33m\u001b[0m\u001b[1;33m\u001b[0m\u001b[0m\n\u001b[0;32m    400\u001b[0m             \u001b[0m_make_path\u001b[0m\u001b[1;33m(\u001b[0m\u001b[0mindex\u001b[0m\u001b[1;33m,\u001b[0m \u001b[0mdoc_type\u001b[0m\u001b[1;33m,\u001b[0m \u001b[0mid\u001b[0m\u001b[1;33m)\u001b[0m\u001b[1;33m,\u001b[0m\u001b[1;33m\u001b[0m\u001b[1;33m\u001b[0m\u001b[0m\n",
      "\u001b[1;32mC:\\python\\lib\\site-packages\\elasticsearch\\transport.py\u001b[0m in \u001b[0;36mperform_request\u001b[1;34m(self, method, url, headers, params, body)\u001b[0m\n\u001b[0;32m    379\u001b[0m \u001b[1;33m\u001b[0m\u001b[0m\n\u001b[0;32m    380\u001b[0m             \u001b[1;32mtry\u001b[0m\u001b[1;33m:\u001b[0m\u001b[1;33m\u001b[0m\u001b[1;33m\u001b[0m\u001b[0m\n\u001b[1;32m--> 381\u001b[1;33m                 status, headers_response, data = connection.perform_request(\n\u001b[0m\u001b[0;32m    382\u001b[0m                     \u001b[0mmethod\u001b[0m\u001b[1;33m,\u001b[0m\u001b[1;33m\u001b[0m\u001b[1;33m\u001b[0m\u001b[0m\n\u001b[0;32m    383\u001b[0m                     \u001b[0murl\u001b[0m\u001b[1;33m,\u001b[0m\u001b[1;33m\u001b[0m\u001b[1;33m\u001b[0m\u001b[0m\n",
      "\u001b[1;32mC:\\python\\lib\\site-packages\\elasticsearch\\connection\\http_urllib3.py\u001b[0m in \u001b[0;36mperform_request\u001b[1;34m(self, method, url, params, body, timeout, ignore, headers)\u001b[0m\n\u001b[0;32m    249\u001b[0m                 \u001b[0mrequest_headers\u001b[0m\u001b[1;33m[\u001b[0m\u001b[1;34m\"content-encoding\"\u001b[0m\u001b[1;33m]\u001b[0m \u001b[1;33m=\u001b[0m \u001b[1;34m\"gzip\"\u001b[0m\u001b[1;33m\u001b[0m\u001b[1;33m\u001b[0m\u001b[0m\n\u001b[0;32m    250\u001b[0m \u001b[1;33m\u001b[0m\u001b[0m\n\u001b[1;32m--> 251\u001b[1;33m             response = self.pool.urlopen(\n\u001b[0m\u001b[0;32m    252\u001b[0m                 \u001b[0mmethod\u001b[0m\u001b[1;33m,\u001b[0m \u001b[0murl\u001b[0m\u001b[1;33m,\u001b[0m \u001b[0mbody\u001b[0m\u001b[1;33m,\u001b[0m \u001b[0mretries\u001b[0m\u001b[1;33m=\u001b[0m\u001b[0mRetry\u001b[0m\u001b[1;33m(\u001b[0m\u001b[1;32mFalse\u001b[0m\u001b[1;33m)\u001b[0m\u001b[1;33m,\u001b[0m \u001b[0mheaders\u001b[0m\u001b[1;33m=\u001b[0m\u001b[0mrequest_headers\u001b[0m\u001b[1;33m,\u001b[0m \u001b[1;33m**\u001b[0m\u001b[0mkw\u001b[0m\u001b[1;33m\u001b[0m\u001b[1;33m\u001b[0m\u001b[0m\n\u001b[0;32m    253\u001b[0m             )\n",
      "\u001b[1;32mC:\\python\\lib\\site-packages\\urllib3\\connectionpool.py\u001b[0m in \u001b[0;36murlopen\u001b[1;34m(self, method, url, body, headers, retries, redirect, assert_same_host, timeout, pool_timeout, release_conn, chunked, body_pos, **response_kw)\u001b[0m\n\u001b[0;32m    697\u001b[0m \u001b[1;33m\u001b[0m\u001b[0m\n\u001b[0;32m    698\u001b[0m             \u001b[1;31m# Make the request on the httplib connection object.\u001b[0m\u001b[1;33m\u001b[0m\u001b[1;33m\u001b[0m\u001b[1;33m\u001b[0m\u001b[0m\n\u001b[1;32m--> 699\u001b[1;33m             httplib_response = self._make_request(\n\u001b[0m\u001b[0;32m    700\u001b[0m                 \u001b[0mconn\u001b[0m\u001b[1;33m,\u001b[0m\u001b[1;33m\u001b[0m\u001b[1;33m\u001b[0m\u001b[0m\n\u001b[0;32m    701\u001b[0m                 \u001b[0mmethod\u001b[0m\u001b[1;33m,\u001b[0m\u001b[1;33m\u001b[0m\u001b[1;33m\u001b[0m\u001b[0m\n",
      "\u001b[1;32mC:\\python\\lib\\site-packages\\urllib3\\connectionpool.py\u001b[0m in \u001b[0;36m_make_request\u001b[1;34m(self, conn, method, url, timeout, chunked, **httplib_request_kw)\u001b[0m\n\u001b[0;32m    392\u001b[0m                 \u001b[0mconn\u001b[0m\u001b[1;33m.\u001b[0m\u001b[0mrequest_chunked\u001b[0m\u001b[1;33m(\u001b[0m\u001b[0mmethod\u001b[0m\u001b[1;33m,\u001b[0m \u001b[0murl\u001b[0m\u001b[1;33m,\u001b[0m \u001b[1;33m**\u001b[0m\u001b[0mhttplib_request_kw\u001b[0m\u001b[1;33m)\u001b[0m\u001b[1;33m\u001b[0m\u001b[1;33m\u001b[0m\u001b[0m\n\u001b[0;32m    393\u001b[0m             \u001b[1;32melse\u001b[0m\u001b[1;33m:\u001b[0m\u001b[1;33m\u001b[0m\u001b[1;33m\u001b[0m\u001b[0m\n\u001b[1;32m--> 394\u001b[1;33m                 \u001b[0mconn\u001b[0m\u001b[1;33m.\u001b[0m\u001b[0mrequest\u001b[0m\u001b[1;33m(\u001b[0m\u001b[0mmethod\u001b[0m\u001b[1;33m,\u001b[0m \u001b[0murl\u001b[0m\u001b[1;33m,\u001b[0m \u001b[1;33m**\u001b[0m\u001b[0mhttplib_request_kw\u001b[0m\u001b[1;33m)\u001b[0m\u001b[1;33m\u001b[0m\u001b[1;33m\u001b[0m\u001b[0m\n\u001b[0m\u001b[0;32m    395\u001b[0m \u001b[1;33m\u001b[0m\u001b[0m\n\u001b[0;32m    396\u001b[0m         \u001b[1;31m# We are swallowing BrokenPipeError (errno.EPIPE) since the server is\u001b[0m\u001b[1;33m\u001b[0m\u001b[1;33m\u001b[0m\u001b[1;33m\u001b[0m\u001b[0m\n",
      "\u001b[1;32mC:\\python\\lib\\site-packages\\urllib3\\connection.py\u001b[0m in \u001b[0;36mrequest\u001b[1;34m(self, method, url, body, headers)\u001b[0m\n\u001b[0;32m    232\u001b[0m         \u001b[1;32mif\u001b[0m \u001b[1;34m\"user-agent\"\u001b[0m \u001b[1;32mnot\u001b[0m \u001b[1;32min\u001b[0m \u001b[1;33m(\u001b[0m\u001b[0msix\u001b[0m\u001b[1;33m.\u001b[0m\u001b[0mensure_str\u001b[0m\u001b[1;33m(\u001b[0m\u001b[0mk\u001b[0m\u001b[1;33m.\u001b[0m\u001b[0mlower\u001b[0m\u001b[1;33m(\u001b[0m\u001b[1;33m)\u001b[0m\u001b[1;33m)\u001b[0m \u001b[1;32mfor\u001b[0m \u001b[0mk\u001b[0m \u001b[1;32min\u001b[0m \u001b[0mheaders\u001b[0m\u001b[1;33m)\u001b[0m\u001b[1;33m:\u001b[0m\u001b[1;33m\u001b[0m\u001b[1;33m\u001b[0m\u001b[0m\n\u001b[0;32m    233\u001b[0m             \u001b[0mheaders\u001b[0m\u001b[1;33m[\u001b[0m\u001b[1;34m\"User-Agent\"\u001b[0m\u001b[1;33m]\u001b[0m \u001b[1;33m=\u001b[0m \u001b[0m_get_default_user_agent\u001b[0m\u001b[1;33m(\u001b[0m\u001b[1;33m)\u001b[0m\u001b[1;33m\u001b[0m\u001b[1;33m\u001b[0m\u001b[0m\n\u001b[1;32m--> 234\u001b[1;33m         \u001b[0msuper\u001b[0m\u001b[1;33m(\u001b[0m\u001b[0mHTTPConnection\u001b[0m\u001b[1;33m,\u001b[0m \u001b[0mself\u001b[0m\u001b[1;33m)\u001b[0m\u001b[1;33m.\u001b[0m\u001b[0mrequest\u001b[0m\u001b[1;33m(\u001b[0m\u001b[0mmethod\u001b[0m\u001b[1;33m,\u001b[0m \u001b[0murl\u001b[0m\u001b[1;33m,\u001b[0m \u001b[0mbody\u001b[0m\u001b[1;33m=\u001b[0m\u001b[0mbody\u001b[0m\u001b[1;33m,\u001b[0m \u001b[0mheaders\u001b[0m\u001b[1;33m=\u001b[0m\u001b[0mheaders\u001b[0m\u001b[1;33m)\u001b[0m\u001b[1;33m\u001b[0m\u001b[1;33m\u001b[0m\u001b[0m\n\u001b[0m\u001b[0;32m    235\u001b[0m \u001b[1;33m\u001b[0m\u001b[0m\n\u001b[0;32m    236\u001b[0m     \u001b[1;32mdef\u001b[0m \u001b[0mrequest_chunked\u001b[0m\u001b[1;33m(\u001b[0m\u001b[0mself\u001b[0m\u001b[1;33m,\u001b[0m \u001b[0mmethod\u001b[0m\u001b[1;33m,\u001b[0m \u001b[0murl\u001b[0m\u001b[1;33m,\u001b[0m \u001b[0mbody\u001b[0m\u001b[1;33m=\u001b[0m\u001b[1;32mNone\u001b[0m\u001b[1;33m,\u001b[0m \u001b[0mheaders\u001b[0m\u001b[1;33m=\u001b[0m\u001b[1;32mNone\u001b[0m\u001b[1;33m)\u001b[0m\u001b[1;33m:\u001b[0m\u001b[1;33m\u001b[0m\u001b[1;33m\u001b[0m\u001b[0m\n",
      "\u001b[1;32mC:\\python\\lib\\http\\client.py\u001b[0m in \u001b[0;36mrequest\u001b[1;34m(self, method, url, body, headers, encode_chunked)\u001b[0m\n\u001b[0;32m   1251\u001b[0m                 encode_chunked=False):\n\u001b[0;32m   1252\u001b[0m         \u001b[1;34m\"\"\"Send a complete request to the server.\"\"\"\u001b[0m\u001b[1;33m\u001b[0m\u001b[1;33m\u001b[0m\u001b[0m\n\u001b[1;32m-> 1253\u001b[1;33m         \u001b[0mself\u001b[0m\u001b[1;33m.\u001b[0m\u001b[0m_send_request\u001b[0m\u001b[1;33m(\u001b[0m\u001b[0mmethod\u001b[0m\u001b[1;33m,\u001b[0m \u001b[0murl\u001b[0m\u001b[1;33m,\u001b[0m \u001b[0mbody\u001b[0m\u001b[1;33m,\u001b[0m \u001b[0mheaders\u001b[0m\u001b[1;33m,\u001b[0m \u001b[0mencode_chunked\u001b[0m\u001b[1;33m)\u001b[0m\u001b[1;33m\u001b[0m\u001b[1;33m\u001b[0m\u001b[0m\n\u001b[0m\u001b[0;32m   1254\u001b[0m \u001b[1;33m\u001b[0m\u001b[0m\n\u001b[0;32m   1255\u001b[0m     \u001b[1;32mdef\u001b[0m \u001b[0m_send_request\u001b[0m\u001b[1;33m(\u001b[0m\u001b[0mself\u001b[0m\u001b[1;33m,\u001b[0m \u001b[0mmethod\u001b[0m\u001b[1;33m,\u001b[0m \u001b[0murl\u001b[0m\u001b[1;33m,\u001b[0m \u001b[0mbody\u001b[0m\u001b[1;33m,\u001b[0m \u001b[0mheaders\u001b[0m\u001b[1;33m,\u001b[0m \u001b[0mencode_chunked\u001b[0m\u001b[1;33m)\u001b[0m\u001b[1;33m:\u001b[0m\u001b[1;33m\u001b[0m\u001b[1;33m\u001b[0m\u001b[0m\n",
      "\u001b[1;32mC:\\python\\lib\\http\\client.py\u001b[0m in \u001b[0;36m_send_request\u001b[1;34m(self, method, url, body, headers, encode_chunked)\u001b[0m\n\u001b[0;32m   1297\u001b[0m             \u001b[1;31m# default charset of iso-8859-1.\u001b[0m\u001b[1;33m\u001b[0m\u001b[1;33m\u001b[0m\u001b[1;33m\u001b[0m\u001b[0m\n\u001b[0;32m   1298\u001b[0m             \u001b[0mbody\u001b[0m \u001b[1;33m=\u001b[0m \u001b[0m_encode\u001b[0m\u001b[1;33m(\u001b[0m\u001b[0mbody\u001b[0m\u001b[1;33m,\u001b[0m \u001b[1;34m'body'\u001b[0m\u001b[1;33m)\u001b[0m\u001b[1;33m\u001b[0m\u001b[1;33m\u001b[0m\u001b[0m\n\u001b[1;32m-> 1299\u001b[1;33m         \u001b[0mself\u001b[0m\u001b[1;33m.\u001b[0m\u001b[0mendheaders\u001b[0m\u001b[1;33m(\u001b[0m\u001b[0mbody\u001b[0m\u001b[1;33m,\u001b[0m \u001b[0mencode_chunked\u001b[0m\u001b[1;33m=\u001b[0m\u001b[0mencode_chunked\u001b[0m\u001b[1;33m)\u001b[0m\u001b[1;33m\u001b[0m\u001b[1;33m\u001b[0m\u001b[0m\n\u001b[0m\u001b[0;32m   1300\u001b[0m \u001b[1;33m\u001b[0m\u001b[0m\n\u001b[0;32m   1301\u001b[0m     \u001b[1;32mdef\u001b[0m \u001b[0mgetresponse\u001b[0m\u001b[1;33m(\u001b[0m\u001b[0mself\u001b[0m\u001b[1;33m)\u001b[0m\u001b[1;33m:\u001b[0m\u001b[1;33m\u001b[0m\u001b[1;33m\u001b[0m\u001b[0m\n",
      "\u001b[1;32mC:\\python\\lib\\http\\client.py\u001b[0m in \u001b[0;36mendheaders\u001b[1;34m(self, message_body, encode_chunked)\u001b[0m\n\u001b[0;32m   1246\u001b[0m         \u001b[1;32melse\u001b[0m\u001b[1;33m:\u001b[0m\u001b[1;33m\u001b[0m\u001b[1;33m\u001b[0m\u001b[0m\n\u001b[0;32m   1247\u001b[0m             \u001b[1;32mraise\u001b[0m \u001b[0mCannotSendHeader\u001b[0m\u001b[1;33m(\u001b[0m\u001b[1;33m)\u001b[0m\u001b[1;33m\u001b[0m\u001b[1;33m\u001b[0m\u001b[0m\n\u001b[1;32m-> 1248\u001b[1;33m         \u001b[0mself\u001b[0m\u001b[1;33m.\u001b[0m\u001b[0m_send_output\u001b[0m\u001b[1;33m(\u001b[0m\u001b[0mmessage_body\u001b[0m\u001b[1;33m,\u001b[0m \u001b[0mencode_chunked\u001b[0m\u001b[1;33m=\u001b[0m\u001b[0mencode_chunked\u001b[0m\u001b[1;33m)\u001b[0m\u001b[1;33m\u001b[0m\u001b[1;33m\u001b[0m\u001b[0m\n\u001b[0m\u001b[0;32m   1249\u001b[0m \u001b[1;33m\u001b[0m\u001b[0m\n\u001b[0;32m   1250\u001b[0m     def request(self, method, url, body=None, headers={}, *,\n",
      "\u001b[1;32mC:\\python\\lib\\http\\client.py\u001b[0m in \u001b[0;36m_send_output\u001b[1;34m(self, message_body, encode_chunked)\u001b[0m\n\u001b[0;32m   1006\u001b[0m         \u001b[0mmsg\u001b[0m \u001b[1;33m=\u001b[0m \u001b[1;34mb\"\\r\\n\"\u001b[0m\u001b[1;33m.\u001b[0m\u001b[0mjoin\u001b[0m\u001b[1;33m(\u001b[0m\u001b[0mself\u001b[0m\u001b[1;33m.\u001b[0m\u001b[0m_buffer\u001b[0m\u001b[1;33m)\u001b[0m\u001b[1;33m\u001b[0m\u001b[1;33m\u001b[0m\u001b[0m\n\u001b[0;32m   1007\u001b[0m         \u001b[1;32mdel\u001b[0m \u001b[0mself\u001b[0m\u001b[1;33m.\u001b[0m\u001b[0m_buffer\u001b[0m\u001b[1;33m[\u001b[0m\u001b[1;33m:\u001b[0m\u001b[1;33m]\u001b[0m\u001b[1;33m\u001b[0m\u001b[1;33m\u001b[0m\u001b[0m\n\u001b[1;32m-> 1008\u001b[1;33m         \u001b[0mself\u001b[0m\u001b[1;33m.\u001b[0m\u001b[0msend\u001b[0m\u001b[1;33m(\u001b[0m\u001b[0mmsg\u001b[0m\u001b[1;33m)\u001b[0m\u001b[1;33m\u001b[0m\u001b[1;33m\u001b[0m\u001b[0m\n\u001b[0m\u001b[0;32m   1009\u001b[0m \u001b[1;33m\u001b[0m\u001b[0m\n\u001b[0;32m   1010\u001b[0m         \u001b[1;32mif\u001b[0m \u001b[0mmessage_body\u001b[0m \u001b[1;32mis\u001b[0m \u001b[1;32mnot\u001b[0m \u001b[1;32mNone\u001b[0m\u001b[1;33m:\u001b[0m\u001b[1;33m\u001b[0m\u001b[1;33m\u001b[0m\u001b[0m\n",
      "\u001b[1;32mC:\\python\\lib\\http\\client.py\u001b[0m in \u001b[0;36msend\u001b[1;34m(self, data)\u001b[0m\n\u001b[0;32m    967\u001b[0m             \u001b[1;32mreturn\u001b[0m\u001b[1;33m\u001b[0m\u001b[1;33m\u001b[0m\u001b[0m\n\u001b[0;32m    968\u001b[0m         \u001b[1;32mtry\u001b[0m\u001b[1;33m:\u001b[0m\u001b[1;33m\u001b[0m\u001b[1;33m\u001b[0m\u001b[0m\n\u001b[1;32m--> 969\u001b[1;33m             \u001b[0mself\u001b[0m\u001b[1;33m.\u001b[0m\u001b[0msock\u001b[0m\u001b[1;33m.\u001b[0m\u001b[0msendall\u001b[0m\u001b[1;33m(\u001b[0m\u001b[0mdata\u001b[0m\u001b[1;33m)\u001b[0m\u001b[1;33m\u001b[0m\u001b[1;33m\u001b[0m\u001b[0m\n\u001b[0m\u001b[0;32m    970\u001b[0m         \u001b[1;32mexcept\u001b[0m \u001b[0mTypeError\u001b[0m\u001b[1;33m:\u001b[0m\u001b[1;33m\u001b[0m\u001b[1;33m\u001b[0m\u001b[0m\n\u001b[0;32m    971\u001b[0m             \u001b[1;32mif\u001b[0m \u001b[0misinstance\u001b[0m\u001b[1;33m(\u001b[0m\u001b[0mdata\u001b[0m\u001b[1;33m,\u001b[0m \u001b[0mcollections\u001b[0m\u001b[1;33m.\u001b[0m\u001b[0mabc\u001b[0m\u001b[1;33m.\u001b[0m\u001b[0mIterable\u001b[0m\u001b[1;33m)\u001b[0m\u001b[1;33m:\u001b[0m\u001b[1;33m\u001b[0m\u001b[1;33m\u001b[0m\u001b[0m\n",
      "\u001b[1;31mKeyboardInterrupt\u001b[0m: "
     ]
    }
   ],
   "source": [
    "\r\n",
    "for index , row in new_data.iterrows() :\r\n",
    "    row = dict(row)\r\n",
    "    es.index( index=\"names\" , body=row )\r\n",
    "\r\n",
    "print(\"Add All Data for names\")"
   ]
  },
  {
   "cell_type": "code",
   "execution_count": 20,
   "metadata": {},
   "outputs": [
    {
     "name": "stdout",
     "output_type": "stream",
     "text": [
      "The original string is : GeeksforGeeks\n",
      "The string after binary conversion : ['0', '1', '0', '0', '0', '1', '1', '1', '0', '1', '1', '0', '0', '1', '0', '1', '0', '1', '1', '0', '0', '1', '0', '1', '0', '1', '1', '0', '1', '0', '1', '1', '0', '1', '1', '1', '0', '0', '1', '1', '0', '1', '1', '0', '0', '1', '1', '0', '0', '1', '1', '0', '1', '1', '1', '1', '0', '1', '1', '1', '0', '0', '1', '0', '0', '1', '0', '0', '0', '1', '1', '1', '0', '1', '1', '0', '0', '1', '0', '1', '0', '1', '1', '0', '0', '1', '0', '1', '0', '1', '1', '0', '1', '0', '1', '1', '0', '1', '1', '1', '0', '0', '1', '1']\n",
      "['0', '1', '0', '0', '0', '1', '1', '1', '0', '1', '1', '0', '0', '1', '0', '1', '0', '1', '1', '0', '0', '1', '0', '1', '0', '1', '1', '0', '1', '0', '1', '1', '0', '1', '1', '1', '0', '0', '1', '1', '0', '1', '1', '0', '0', '1', '1', '0', '0', '1', '1', '0', '1', '1', '1', '1', '0', '1', '1', '1', '0', '0', '1', '0', '0', '1', '0', '0', '0', '1', '1', '1', '0', '1', '1', '0', '0', '1', '0', '1', '0', '1', '1', '0', '0', '1', '0', '1', '0', '1', '1', '0', '1', '0', '1', '1', '0', '1', '1', '1', '0', '0', '1', '1']\n"
     ]
    }
   ],
   "source": [
    "# Python3 code to demonstrate working of\r\n",
    "# Converting String to binary\r\n",
    "# Using join() + ord() + format()\r\n",
    "\r\n",
    "# initializing string\r\n",
    "test_str = \"GeeksforGeeks\"\r\n",
    "\r\n",
    "# printing original string\r\n",
    "print(\"The original string is : \" + str(test_str))\r\n",
    "\r\n",
    "# using join() + ord() + format()\r\n",
    "# Converting String to binary\r\n",
    "\r\n",
    "res = list (''.join(format(ord(i), '08b') for i in test_str))\r\n",
    "\r\n",
    "# printing result\r\n",
    "print(\"The string after binary conversion : \" + str(res))\r\n",
    "print (list (res))\r\n",
    "x = (format(ord(i), '08b') for i in test_str)\r\n"
   ]
  },
  {
   "cell_type": "code",
   "execution_count": 144,
   "metadata": {},
   "outputs": [
    {
     "name": "stdout",
     "output_type": "stream",
     "text": [
      "v1 :  [1 1 0 0 0 1 0 0 1 1 1 1 1 0 0 1 0 0 0 1 0 1 1 1 0 0 1 0 0 1 0 1 0 1 1 0 0\n",
      " 0 1 1 0 0 0 1] 44\n",
      "v2 :  [1 1 0 0 1 0 0 0 1 0 1 1 1 0 0 1 0 0 1 0 1 0 1 1 0 0 0 1 1 0 0 0 1 1 1 0 0\n",
      " 0 1 0 0 1 1 1] 44\n",
      "inner :  13\n",
      "dot: 13\n",
      "cosin :  61.90476190476192\n"
     ]
    }
   ],
   "source": [
    "import numpy as np\r\n",
    "from sklearn.metrics.pairwise import cosine_similarity\r\n",
    "word_one =\"امير\"\r\n",
    "v1 = list (''.join(format(ord(i), '08b') for i in word_one ))\r\n",
    "v1 =  np.array([int (i) for i in v1])\r\n",
    "print (\"v1 : \",v1 , len (v1))\r\n",
    "v2 = list (''.join(format(ord(i), '08b') for i in  \"ميرا\" ))\r\n",
    "v2 = np.array([int (i) for i in v2])\r\n",
    "print (\"v2 : \",v2 , len(v2))\r\n",
    "print ( \"inner : \", np.inner(v2, v1)  ) \r\n",
    "print(\"dot:\", np.dot(v1, v2) )\r\n",
    "print (\"cosin : \", cosine_similarity([v1], [v2])[0][0] *100 )"
   ]
  },
  {
   "cell_type": "code",
   "execution_count": 134,
   "metadata": {},
   "outputs": [
    {
     "data": {
      "text/plain": [
       "0.2727272727272727"
      ]
     },
     "execution_count": 134,
     "metadata": {},
     "output_type": "execute_result"
    }
   ],
   "source": [
    "count = 0 \r\n",
    "for i in range (len(v1)) : \r\n",
    "    if v1[i] != v2 [i] : \r\n",
    "        count = count +1 \r\n",
    "count / len (v1)"
   ]
  },
  {
   "cell_type": "code",
   "execution_count": 194,
   "metadata": {},
   "outputs": [
    {
     "name": "stdout",
     "output_type": "stream",
     "text": [
      "{'a', 'm', 'd'}\n",
      "67.93662204867576\n"
     ]
    }
   ],
   "source": [
    "from collections import Counter\r\n",
    "from math import sqrt\r\n",
    "from sklearn.feature_extraction.text import CountVectorizer\r\n",
    "from sklearn.metrics.pairwise import cosine_similarity\r\n",
    "\r\n",
    "\r\n",
    "field_one = \"mohamad shawqi\"\r\n",
    "field_two = \"ramadan\"\r\n",
    "def word2vec(word):\r\n",
    "\r\n",
    "    # count the characters in word\r\n",
    "    cw = Counter(word)\r\n",
    "    # precomputes a set of the different characters\r\n",
    "    sw = set(cw)\r\n",
    "    # precomputes the \"length\" of the word vector\r\n",
    "    lw = sqrt(sum(c*c for c in cw.values()))\r\n",
    "    # return a tuple\r\n",
    "    return cw, sw, lw\r\n",
    "\r\n",
    "# v1 = list (''.join(format(ord(i), '08b') for i in field_one ))\r\n",
    "\r\n",
    "# v2 = list (''.join(format(ord(i), '08b') for i in field_two ))\r\n",
    "# v2 = v2 + ['3']* (len (v1)-len -(v2) )\r\n",
    "# print ( len (v1) , \"---\", len (v2)  )\r\n",
    "\r\n",
    "v_doc_1 = word2vec(field_one)\r\n",
    "v_doc_2 = word2vec(field_two)\r\n",
    "def cosdis(v1, v2):\r\n",
    "        # which characters are common to the two words?\r\n",
    "        common = v1[1].intersection(v2[1])\r\n",
    "        print (common)\r\n",
    "        # by definition of cosine distance we have\r\n",
    "        score = sum(v1[0][ch]*v2[0][ch] for ch in common)/v1[2]/v2[2]\r\n",
    "\r\n",
    "        # if score <= 0.86 and  score > 0.60 : \r\n",
    "        #     score =score +  score * 12/100\r\n",
    "        # elif score < 0.90 and   0.85 > score  :\r\n",
    "        #     score = score * 0.7/100\r\n",
    "        # if  score >= 1  : \r\n",
    "        #     score = 1\r\n",
    "\r\n",
    "        score = score * 100 \r\n",
    "        return  score \r\n",
    "        \r\n",
    "\r\n",
    "from scipy import spatial\r\n",
    "List1 = [4, 47, 8, 3]\r\n",
    "List2 = [3, 52, 12, 16]\r\n",
    "#result = 1 - spatial.distance.cosine(v_doc_1, v_doc_2)\r\n",
    "#print(result)\r\n",
    "\r\n",
    "\r\n",
    "print (cosdis (v_doc_1 , v_doc_2 ))"
   ]
  },
  {
   "cell_type": "code",
   "execution_count": 225,
   "metadata": {},
   "outputs": [
    {
     "data": {
      "text/plain": [
       "0.4"
      ]
     },
     "execution_count": 225,
     "metadata": {},
     "output_type": "execute_result"
    }
   ],
   "source": [
    "from difflib import SequenceMatcher\r\n",
    "\r\n",
    "def similar(a, b):\r\n",
    "    return SequenceMatcher(None, a, b).ratio()\r\n",
    "field_one =\"SALEM\".lower()\r\n",
    "field_two = \"ahmad\"\r\n",
    "similar ( field_one ,field_two)"
   ]
  },
  {
   "cell_type": "code",
   "execution_count": null,
   "metadata": {},
   "outputs": [],
   "source": []
  },
  {
   "cell_type": "code",
   "execution_count": 183,
   "metadata": {},
   "outputs": [
    {
     "name": "stdout",
     "output_type": "stream",
     "text": [
      "['0', '1', '1', '1', '0', '0', '1', '0', '0', '1', '1', '0', '0', '0', '0', '1', '0', '1', '1', '0', '1', '1', '0', '1', '0', '1', '1', '0', '0', '0', '0', '1', '0', '1', '1', '0', '0', '1', '0', '0', '0', '1', '1', '0', '0', '0', '0', '1', '0', '1', '1', '0', '1', '1', '1', '0', '0', '0', '0', '0', '0', '0', '0', '0', '0', '0', '0', '0', '0', '0', '0', '0', '0', '0', '0', '0', '0', '0', '0', '0', '0', '0', '0', '0', '0', '0', '0', '0', '0', '0', '0', '0', '0', '0', '0', '0', '0', '0', '0', '0', '0', '0', '0', '0', '0', '0', '0', '0', '0', '0', '0', '0']\n"
     ]
    }
   ],
   "source": [
    "print (v2)"
   ]
  },
  {
   "cell_type": "code",
   "execution_count": 157,
   "metadata": {},
   "outputs": [
    {
     "name": "stdout",
     "output_type": "stream",
     "text": [
      "{'the': 7, 'quick': 6, 'brown': 0, 'fox': 2, 'jumped': 3, 'over': 5, 'lazy': 4, 'dog': 1}\n",
      "(1, 8)\n",
      "<class 'scipy.sparse.csr.csr_matrix'>\n",
      "[[1 1 1 1 1 1 1 2]]\n"
     ]
    }
   ],
   "source": [
    "from sklearn.feature_extraction.text import CountVectorizer\r\n",
    "# list of text documents\r\n",
    "text = [\"The quick brown fox jumped over the lazy dog.\"]\r\n",
    "# create the transform\r\n",
    "vectorizer = CountVectorizer()\r\n",
    "# tokenize and build vocab\r\n",
    "vectorizer.fit(text)\r\n",
    "# summarize\r\n",
    "print(vectorizer.vocabulary_)\r\n",
    "# encode document\r\n",
    "vector = vectorizer.transform(text)\r\n",
    "# summarize encoded vector\r\n",
    "print(vector.shape)\r\n",
    "print(type(vector))\r\n",
    "print(vector.toarray())"
   ]
  },
  {
   "cell_type": "code",
   "execution_count": 148,
   "metadata": {},
   "outputs": [],
   "source": [
    "\r\n",
    "\r\n",
    "\r\n",
    "import pandas as pd \r\n",
    "\r\n",
    "new_file = pd.read_excel(\"C:/Appspro/phonetics/final_data/pre_processing.xls\")\r\n",
    "new_file.to_csv(\"C:/Appspro/phonetics/final_data/pre_processing.csv\", index =False)\r\n"
   ]
  },
  {
   "cell_type": "code",
   "execution_count": 222,
   "metadata": {},
   "outputs": [
    {
     "data": {
      "text/plain": [
       "12.0"
      ]
     },
     "execution_count": 222,
     "metadata": {},
     "output_type": "execute_result"
    }
   ],
   "source": [
    "40 * 30/100"
   ]
  },
  {
   "cell_type": "code",
   "execution_count": 224,
   "metadata": {},
   "outputs": [
    {
     "name": "stdout",
     "output_type": "stream",
     "text": [
      "Jaccard similarity: 0.500\n"
     ]
    }
   ],
   "source": [
    "from sklearn.metrics import jaccard_score\r\n",
    "A = [1, 1, 1, 0]\r\n",
    "B = [1, 1, 0, 1]\r\n",
    "jacc = jaccard_score(A,B)\r\n",
    "print('Jaccard similarity: %.3f' % jacc)"
   ]
  },
  {
   "cell_type": "code",
   "execution_count": 226,
   "metadata": {},
   "outputs": [
    {
     "ename": "AttributeError",
     "evalue": "module 'string' has no attribute 'maketrans'",
     "output_type": "error",
     "traceback": [
      "\u001b[1;31m---------------------------------------------------------------------------\u001b[0m",
      "\u001b[1;31mAttributeError\u001b[0m                            Traceback (most recent call last)",
      "\u001b[1;32m<ipython-input-226-da42d0ed2fe6>\u001b[0m in \u001b[0;36m<module>\u001b[1;34m\u001b[0m\n\u001b[0;32m      1\u001b[0m \u001b[1;32mimport\u001b[0m \u001b[0mstring\u001b[0m\u001b[1;33m\u001b[0m\u001b[1;33m\u001b[0m\u001b[0m\n\u001b[0;32m      2\u001b[0m \u001b[0ms\u001b[0m \u001b[1;33m=\u001b[0m \u001b[1;34m\"string. With. Punctuation?\"\u001b[0m \u001b[1;31m# Sample string\u001b[0m\u001b[1;33m\u001b[0m\u001b[1;33m\u001b[0m\u001b[0m\n\u001b[1;32m----> 3\u001b[1;33m \u001b[0mout\u001b[0m \u001b[1;33m=\u001b[0m \u001b[0ms\u001b[0m\u001b[1;33m.\u001b[0m\u001b[0mtranslate\u001b[0m\u001b[1;33m(\u001b[0m\u001b[0mstring\u001b[0m\u001b[1;33m.\u001b[0m\u001b[0mmaketrans\u001b[0m\u001b[1;33m(\u001b[0m\u001b[1;34m\"\"\u001b[0m\u001b[1;33m,\u001b[0m\u001b[1;34m\"\"\u001b[0m\u001b[1;33m)\u001b[0m\u001b[1;33m,\u001b[0m \u001b[0mstring\u001b[0m\u001b[1;33m.\u001b[0m\u001b[0mpunctuation\u001b[0m\u001b[1;33m)\u001b[0m\u001b[1;33m\u001b[0m\u001b[1;33m\u001b[0m\u001b[0m\n\u001b[0m",
      "\u001b[1;31mAttributeError\u001b[0m: module 'string' has no attribute 'maketrans'"
     ]
    }
   ],
   "source": [
    "import string\r\n",
    "s = \"string. With. Punctuation?\" # Sample string \r\n",
    "out = s.translate(string.maketrans(\"\",\"\"), string.punctuation)"
   ]
  }
 ],
 "metadata": {
  "interpreter": {
   "hash": "e922dd073470bdcc017ae3abd31d6491d6ed7bf31c1d559806e5511bfea88b81"
  },
  "kernelspec": {
   "display_name": "Python 3.9.5 64-bit",
   "name": "python3"
  },
  "language_info": {
   "codemirror_mode": {
    "name": "ipython",
    "version": 3
   },
   "file_extension": ".py",
   "mimetype": "text/x-python",
   "name": "python",
   "nbconvert_exporter": "python",
   "pygments_lexer": "ipython3",
   "version": "3.9.5"
  },
  "metadata": {
   "interpreter": {
    "hash": "e922dd073470bdcc017ae3abd31d6491d6ed7bf31c1d559806e5511bfea88b81"
   }
  },
  "orig_nbformat": 2
 },
 "nbformat": 4,
 "nbformat_minor": 2
}